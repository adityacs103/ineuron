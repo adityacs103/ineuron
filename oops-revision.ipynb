{
 "cells": [
  {
   "cell_type": "markdown",
   "metadata": {},
   "source": [
    "## Encapsulation"
   ]
  },
  {
   "cell_type": "code",
   "execution_count": 1,
   "metadata": {},
   "outputs": [],
   "source": [
    "class Tyres:\n",
    "    def __init__(self,size,presure):\n",
    "        self.size = size\n",
    "        self.presure =presure\n",
    "    def __str__(self):\n",
    "        return(f\"Tyre size: {self.size}, presure: {self.presure}\")\n",
    "    \n",
    "class Engine:\n",
    "    def __init__(self,fuel_type,noice_type):\n",
    "        self.fuel_type = fuel_type\n",
    "        self.noice_type = noice_type\n",
    "    def __str__(self):\n",
    "        return(f\"engine fuel type: {self.fuel_type}, noice_type: {self.noice_type}\")\n",
    "\n",
    "class Body:\n",
    "    def __init__(self,size,type):\n",
    "        self.size=size\n",
    "        self.type=type\n",
    "    def __str__(self):\n",
    "        return(f\"body size: {self.size}, type: {self.type}\")\n",
    "    \n",
    "class Car:\n",
    "    def __init__(self,tyres,engine,body):\n",
    "        self.tyres = tyres\n",
    "        self.engine = engine\n",
    "        self.body = body\n",
    "    def __str__(self):\n",
    "        return (str(self.engine)+\"\\n\"+ str(self.tyres)+ \"\\n\"+ str(self.body))\n",
    "        "
   ]
  },
  {
   "cell_type": "code",
   "execution_count": 2,
   "metadata": {},
   "outputs": [],
   "source": [
    "t=Tyres(17.5,35)\n",
    "e=Engine(\"petrol\",\"moderate\")\n",
    "b=Body(155,\"steel\")"
   ]
  },
  {
   "cell_type": "code",
   "execution_count": 3,
   "metadata": {},
   "outputs": [],
   "source": [
    "# encapsulates all the functionality of the car inside the Car object\n",
    "car1=Car(t,e,b)"
   ]
  },
  {
   "cell_type": "code",
   "execution_count": 4,
   "metadata": {},
   "outputs": [
    {
     "name": "stdout",
     "output_type": "stream",
     "text": [
      "engine fuel type: petrol, noice_type: moderate\n",
      "Tyre size: 17.5, presure: 35\n",
      "body size: 155, type: steel\n"
     ]
    }
   ],
   "source": [
    "print(car1)"
   ]
  },
  {
   "cell_type": "code",
   "execution_count": 5,
   "metadata": {},
   "outputs": [
    {
     "data": {
      "text/plain": [
       "(35, 17.5)"
      ]
     },
     "execution_count": 5,
     "metadata": {},
     "output_type": "execute_result"
    }
   ],
   "source": [
    "t.presure,t.size"
   ]
  },
  {
   "cell_type": "code",
   "execution_count": 6,
   "metadata": {},
   "outputs": [
    {
     "name": "stdout",
     "output_type": "stream",
     "text": [
      "body size: 155, type: steel\n"
     ]
    }
   ],
   "source": [
    "car1.body # body is also a class so it should be print \n",
    "print(car1.body)"
   ]
  },
  {
   "cell_type": "markdown",
   "metadata": {},
   "source": [
    "## Inheritence"
   ]
  },
  {
   "cell_type": "markdown",
   "metadata": {},
   "source": [
    "### Single inheritance"
   ]
  },
  {
   "cell_type": "code",
   "execution_count": 8,
   "metadata": {},
   "outputs": [],
   "source": [
    "class Parent:\n",
    "    def func1(self):\n",
    "        print(\"hello this is parent class\")\n",
    "class Child(Parent):\n",
    "    def func2(self):\n",
    "        print(\"this is child class\")\n"
   ]
  },
  {
   "cell_type": "code",
   "execution_count": 10,
   "metadata": {},
   "outputs": [],
   "source": [
    "test=Child()"
   ]
  },
  {
   "cell_type": "code",
   "execution_count": 11,
   "metadata": {},
   "outputs": [
    {
     "name": "stdout",
     "output_type": "stream",
     "text": [
      "hello this is parent class\n"
     ]
    }
   ],
   "source": [
    "test.func1()"
   ]
  },
  {
   "cell_type": "code",
   "execution_count": 16,
   "metadata": {},
   "outputs": [],
   "source": [
    "class Ineuron:\n",
    "    company_website =\"https://www.ineuron.ai\"\n",
    "    name=\"ineuron\"\n",
    "\n",
    "    def contact_detail(self):\n",
    "        print(f\"contact us at {self.company_website}\")\n",
    "\n",
    "class DataScience(Ineuron):\n",
    "    def __init__(self):\n",
    "        self.year_established=2018\n",
    "\n",
    "    def est_detail(self):\n",
    "        print(\"establist details:\",self.name,self.year_established,self.company_website)\n"
   ]
  },
  {
   "cell_type": "code",
   "execution_count": 17,
   "metadata": {},
   "outputs": [],
   "source": [
    "ds=DataScience()"
   ]
  },
  {
   "cell_type": "code",
   "execution_count": 18,
   "metadata": {},
   "outputs": [
    {
     "name": "stdout",
     "output_type": "stream",
     "text": [
      "contact us at https://www.ineuron.ai\n"
     ]
    }
   ],
   "source": [
    "ds.contact_detail()"
   ]
  },
  {
   "cell_type": "code",
   "execution_count": 19,
   "metadata": {},
   "outputs": [
    {
     "name": "stdout",
     "output_type": "stream",
     "text": [
      "establist details: ineuron 2018 https://www.ineuron.ai\n"
     ]
    }
   ],
   "source": [
    "ds.est_detail()"
   ]
  },
  {
   "cell_type": "markdown",
   "metadata": {},
   "source": [
    "### Multiple inheritance"
   ]
  },
  {
   "cell_type": "code",
   "execution_count": 22,
   "metadata": {},
   "outputs": [],
   "source": [
    "class Parent1:\n",
    "    def func1(self):\n",
    "        print(\"Hello from parent 1\")\n",
    "class Parent2:\n",
    "    def func2(self):\n",
    "        print(\"Hello from parent 2\")\n",
    "class Child1(Parent1,Parent2):\n",
    "    def func3(self):\n",
    "        print(\"Hello from child class\")"
   ]
  },
  {
   "cell_type": "code",
   "execution_count": 23,
   "metadata": {},
   "outputs": [],
   "source": [
    "ch1=Child1()"
   ]
  },
  {
   "cell_type": "code",
   "execution_count": 30,
   "metadata": {},
   "outputs": [
    {
     "name": "stdout",
     "output_type": "stream",
     "text": [
      "Hello from parent 1\n"
     ]
    }
   ],
   "source": [
    "ch1.func1()"
   ]
  },
  {
   "cell_type": "code",
   "execution_count": 31,
   "metadata": {},
   "outputs": [
    {
     "name": "stdout",
     "output_type": "stream",
     "text": [
      "Hello from parent 2\n"
     ]
    }
   ],
   "source": [
    "ch1.func2()"
   ]
  },
  {
   "cell_type": "code",
   "execution_count": 32,
   "metadata": {},
   "outputs": [
    {
     "name": "stdout",
     "output_type": "stream",
     "text": [
      "Hello from child class\n"
     ]
    }
   ],
   "source": [
    "ch1.func3()"
   ]
  },
  {
   "cell_type": "code",
   "execution_count": 12,
   "metadata": {},
   "outputs": [],
   "source": [
    "class Person:\n",
    "    name = \"Abhi\"\n",
    "    age = 23\n",
    "    gender = \"Male\"\n",
    "\n",
    "    def __str__(self):\n",
    "        return (str(self.name)+\" \" + str(self.age) +\" \"+ str(self.gender))\n",
    "    \n",
    "class Company:\n",
    "    company_name = \"Honda\"\n",
    "    location = \"Delhi\"\n",
    "    def __str__(self):\n",
    "        return (str(self.company_name)+\" \"+ str(self.location))\n",
    "    \n",
    "class Employee(Person,Company):\n",
    "    def show(self):\n",
    "        print(f\"details of person: {self.name},{self.age},{self.gender}\")\n",
    "        print(f\"company: {self.company_name}, location: {self.location}\")\n"
   ]
  },
  {
   "cell_type": "code",
   "execution_count": 13,
   "metadata": {},
   "outputs": [],
   "source": [
    "p1=Person()\n",
    "c1=Company()"
   ]
  },
  {
   "cell_type": "code",
   "execution_count": 14,
   "metadata": {},
   "outputs": [
    {
     "data": {
      "text/plain": [
       "'Abhi'"
      ]
     },
     "execution_count": 14,
     "metadata": {},
     "output_type": "execute_result"
    }
   ],
   "source": [
    "p1.name"
   ]
  },
  {
   "cell_type": "code",
   "execution_count": 16,
   "metadata": {},
   "outputs": [],
   "source": [
    "e1=Employee()"
   ]
  },
  {
   "cell_type": "code",
   "execution_count": 17,
   "metadata": {},
   "outputs": [
    {
     "name": "stdout",
     "output_type": "stream",
     "text": [
      "details of person: Abhi,23,Male\n",
      "company: Honda, location: Delhi\n"
     ]
    }
   ],
   "source": [
    "e1.show()"
   ]
  },
  {
   "cell_type": "markdown",
   "metadata": {},
   "source": []
  },
  {
   "cell_type": "markdown",
   "metadata": {},
   "source": [
    "### Multilabel Inheritance"
   ]
  },
  {
   "cell_type": "code",
   "execution_count": 18,
   "metadata": {},
   "outputs": [],
   "source": [
    "class Phones:\n",
    "    def __init__(self,brand,model, price):\n",
    "        self.brand = brand\n",
    "        self.model = model\n",
    "        self.price = price\n",
    "\n",
    "    def specs(self):\n",
    "        return (\"brand:\",self.brand,\"model:\", self.model,\"price\", self.price)\n",
    "    def phone_type(self):\n",
    "        if self.price <25000:\n",
    "            return (\"this is budget phone\")\n",
    "        else:\n",
    "            return (\"This is a midrange phone\")\n",
    "\n",
    "class Smartphone(Phones):\n",
    "    def __init__(self,brand,model,price,ram, storage):\n",
    "        # when i want to access constructor of parent class then  have to use super keyword\n",
    "        # super is a function is used to access method of immediate parent class\n",
    "        super().__init__(brand,model,price)\n",
    "        self.ram = ram\n",
    "        self.storage = storage\n",
    "        \n",
    "class Flashipphone(Smartphone):\n",
    "    def __init__(self, brand, model, price, ram, storage,frontcamera,backcamera,display):\n",
    "        super().__init__(brand, model, price, ram, storage)\n",
    "        self.frontcamera = frontcamera\n",
    "        self.backcamera = backcamera\n",
    "        self.display=display\n",
    "        \n"
   ]
  },
  {
   "cell_type": "code",
   "execution_count": 21,
   "metadata": {},
   "outputs": [],
   "source": [
    "p1=Flashipphone(\"samsung\",\"s8plus\",80000,12, 128, 12,12,\"oled\")"
   ]
  },
  {
   "cell_type": "code",
   "execution_count": 23,
   "metadata": {},
   "outputs": [
    {
     "data": {
      "text/plain": [
       "('brand:', 'samsung', 'model:', 's8plus', 'price', 80000)"
      ]
     },
     "execution_count": 23,
     "metadata": {},
     "output_type": "execute_result"
    }
   ],
   "source": [
    "p1.specs()"
   ]
  },
  {
   "cell_type": "code",
   "execution_count": 24,
   "metadata": {},
   "outputs": [
    {
     "data": {
      "text/plain": [
       "'This is a midrange phone'"
      ]
     },
     "execution_count": 24,
     "metadata": {},
     "output_type": "execute_result"
    }
   ],
   "source": [
    "p1.phone_type()"
   ]
  },
  {
   "cell_type": "code",
   "execution_count": 25,
   "metadata": {},
   "outputs": [
    {
     "data": {
      "text/plain": [
       "128"
      ]
     },
     "execution_count": 25,
     "metadata": {},
     "output_type": "execute_result"
    }
   ],
   "source": [
    "p1.storage"
   ]
  },
  {
   "cell_type": "markdown",
   "metadata": {},
   "source": [
    "### Example of super()"
   ]
  },
  {
   "cell_type": "code",
   "execution_count": 61,
   "metadata": {},
   "outputs": [],
   "source": [
    "class Parent:\n",
    "    def __init__(self,v1,v2):\n",
    "        self.v1 = v1\n",
    "        self.v2 = v2\n",
    "    def info(self):\n",
    "        print(self.v1,self.v2)\n",
    "    \n",
    "class Child(Parent):\n",
    "    def __init__(self,v1,v2,v3):\n",
    "        super().__init__(v1,v2)\n",
    "        self.v3 = v3\n",
    "    def show(self):\n",
    "        print(self.v1,self.v2,self.v3)\n"
   ]
  },
  {
   "cell_type": "code",
   "execution_count": 62,
   "metadata": {},
   "outputs": [],
   "source": [
    "c1=Child(1,2,3)"
   ]
  },
  {
   "cell_type": "code",
   "execution_count": 63,
   "metadata": {},
   "outputs": [
    {
     "name": "stdout",
     "output_type": "stream",
     "text": [
      "1 2 3\n"
     ]
    }
   ],
   "source": [
    "c1.show()"
   ]
  },
  {
   "cell_type": "code",
   "execution_count": 64,
   "metadata": {},
   "outputs": [
    {
     "name": "stdout",
     "output_type": "stream",
     "text": [
      "1 2\n"
     ]
    }
   ],
   "source": [
    "c1.info()"
   ]
  }
 ],
 "metadata": {
  "kernelspec": {
   "display_name": "work-env",
   "language": "python",
   "name": "python3"
  },
  "language_info": {
   "codemirror_mode": {
    "name": "ipython",
    "version": 3
   },
   "file_extension": ".py",
   "mimetype": "text/x-python",
   "name": "python",
   "nbconvert_exporter": "python",
   "pygments_lexer": "ipython3",
   "version": "3.11.4"
  },
  "orig_nbformat": 4
 },
 "nbformat": 4,
 "nbformat_minor": 2
}
