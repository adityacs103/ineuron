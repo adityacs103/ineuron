{
 "cells": [
  {
   "cell_type": "code",
   "execution_count": 1,
   "metadata": {},
   "outputs": [],
   "source": [
    "import numpy as np"
   ]
  },
  {
   "cell_type": "code",
   "execution_count": 4,
   "metadata": {},
   "outputs": [],
   "source": [
    "population=1000000\n",
    "sample_size=10000"
   ]
  },
  {
   "cell_type": "code",
   "execution_count": 5,
   "metadata": {},
   "outputs": [
    {
     "data": {
      "text/plain": [
       "array([538886, 430149, 924054, ..., 592662, 150534, 613687])"
      ]
     },
     "execution_count": 5,
     "metadata": {},
     "output_type": "execute_result"
    }
   ],
   "source": [
    "sample=np.random.randint(1,population,sample_size)\n",
    "sample"
   ]
  },
  {
   "cell_type": "code",
   "execution_count": 6,
   "metadata": {},
   "outputs": [
    {
     "data": {
      "text/plain": [
       "(10000,)"
      ]
     },
     "execution_count": 6,
     "metadata": {},
     "output_type": "execute_result"
    }
   ],
   "source": [
    "sample.shape"
   ]
  },
  {
   "cell_type": "code",
   "execution_count": 7,
   "metadata": {},
   "outputs": [
    {
     "data": {
      "text/plain": [
       "496662.4295"
      ]
     },
     "execution_count": 7,
     "metadata": {},
     "output_type": "execute_result"
    }
   ],
   "source": [
    "np.mean(sample)"
   ]
  },
  {
   "cell_type": "code",
   "execution_count": 8,
   "metadata": {},
   "outputs": [],
   "source": [
    "no_of_sample=[]"
   ]
  },
  {
   "cell_type": "code",
   "execution_count": 22,
   "metadata": {},
   "outputs": [],
   "source": [
    "for i in range(100):\n",
    "    sample=np.random.randint(1,population,sample_size)\n",
    "    no_of_sample.append(sample)"
   ]
  },
  {
   "cell_type": "code",
   "execution_count": 23,
   "metadata": {},
   "outputs": [
    {
     "data": {
      "text/plain": [
       "[array([ 15639, 504317, 613851, ..., 423927, 949907,  86534]),\n",
       " array([932645, 929485, 786503, ..., 920305, 784059, 688945]),\n",
       " array([139451, 495023, 395278, ..., 309691, 870654, 665208]),\n",
       " array([442190, 379877, 474154, ..., 297367, 301759, 204611]),\n",
       " array([376220, 457308, 577151, ..., 105338, 420665,  38591]),\n",
       " array([219563, 343454, 216629, ..., 795719, 621490, 408547]),\n",
       " array([343609, 626437, 433282, ..., 109711, 176283, 236808]),\n",
       " array([748208, 279178, 131936, ..., 165162, 952314, 474976]),\n",
       " array([571824, 290259, 390601, ..., 215232, 162028, 617337]),\n",
       " array([585267,  83369, 766641, ..., 124168,  94146, 456989]),\n",
       " array([227813, 991028, 161594, ..., 649464, 493798, 876581]),\n",
       " array([ 75498, 958603, 316993, ..., 180434, 286337, 538660]),\n",
       " array([531807, 156784, 203388, ..., 462557, 621425, 433738]),\n",
       " array([998853, 918929,  81273, ..., 864539, 697848, 786983]),\n",
       " array([246262,  74531, 922696, ..., 712034,  67666, 797679]),\n",
       " array([120112, 535528, 818532, ..., 961641, 496144, 358630]),\n",
       " array([988512, 744076, 519572, ..., 202950, 580688, 267490]),\n",
       " array([924527, 902195, 122764, ..., 425382, 765800, 985467]),\n",
       " array([714131, 362712, 687553, ..., 681731, 707766, 856074]),\n",
       " array([956622, 615090, 766093, ..., 791747, 765146, 193731]),\n",
       " array([274416, 525882, 424001, ...,  52535, 109739, 844323]),\n",
       " array([239811, 203307, 659921, ..., 857047, 407341, 132390]),\n",
       " array([129595, 910711, 293695, ..., 736214, 630852,  45957]),\n",
       " array([816298,  85988,  32445, ..., 405416, 560071, 706158]),\n",
       " array([323428, 105419, 697038, ..., 252485, 968769, 140363]),\n",
       " array([747688, 617101, 347456, ..., 189078, 897286, 272362]),\n",
       " array([327317, 370966, 894429, ..., 877372, 844337, 599071]),\n",
       " array([404207, 337461, 695314, ..., 320978, 735507, 570747]),\n",
       " array([573772, 674519, 875496, ...,  54429,   4860, 868888]),\n",
       " array([201649, 767122, 438678, ..., 602914, 214092, 792471]),\n",
       " array([237222, 982586, 505182, ..., 164175, 660825, 878740]),\n",
       " array([104731, 267221, 374961, ..., 273658, 606389, 104199]),\n",
       " array([418727, 812262, 626752, ..., 489199, 594138, 443284]),\n",
       " array([382385, 897813, 720600, ...,  33255, 932676,   7012]),\n",
       " array([133759, 220411, 378914, ..., 313140, 667128, 255258]),\n",
       " array([ 83337, 869330, 257910, ..., 635700, 151392, 990511]),\n",
       " array([811263, 571168, 882713, ...,  97170, 795816, 353811]),\n",
       " array([598232,  56933, 993872, ..., 462728, 129313, 566109]),\n",
       " array([838670,  31777, 245878, ..., 499577, 311262, 143068]),\n",
       " array([156509,  21618,  83689, ..., 381594, 354732, 316357]),\n",
       " array([795373,  38442, 900816, ..., 428894, 141120, 842404]),\n",
       " array([201728, 388074, 455906, ..., 483957, 424513, 627027]),\n",
       " array([939047, 733784, 847006, ..., 508992, 698799, 732732]),\n",
       " array([827801, 626057, 411844, ..., 643512,  36540, 858148]),\n",
       " array([535461, 617776,  28955, ..., 709265,   8132, 314223]),\n",
       " array([309217, 551154, 948253, ..., 363214, 541278, 734523]),\n",
       " array([693923, 197970, 780693, ..., 265276, 416888, 529641]),\n",
       " array([205951, 778047, 744538, ..., 976914,  44434, 115084]),\n",
       " array([418833, 950830, 432091, ...,  11885, 234801, 331302]),\n",
       " array([ 17992, 810552, 941493, ..., 725691, 529362, 456732]),\n",
       " array([826329,  33773, 572745, ..., 506080, 713274, 110702]),\n",
       " array([ 73373,  26623, 250977, ..., 857014, 747154, 306672]),\n",
       " array([864442,  51003, 762672, ..., 689625, 279036, 200748]),\n",
       " array([437040,  70491, 206895, ..., 113038, 466765,  64280]),\n",
       " array([924378, 194008, 585726, ..., 920203, 518570, 465555]),\n",
       " array([548097, 675084, 624291, ..., 339756,  85264, 841434]),\n",
       " array([196324, 422939, 464786, ..., 396072, 158264, 534961]),\n",
       " array([126699, 399772, 148164, ..., 697208, 927117, 124257]),\n",
       " array([ 16468, 263851, 665263, ..., 748752, 578797, 306276]),\n",
       " array([ 97705, 401204, 276189, ..., 955118, 155805, 116521]),\n",
       " array([455209, 604562, 190187, ..., 668410, 365683, 139663]),\n",
       " array([275537, 673005,  52720, ..., 942617, 416310, 883360]),\n",
       " array([535533, 758211, 262357, ..., 930202, 248666,  66011]),\n",
       " array([586598, 592106, 943762, ..., 112521,  28931, 356918]),\n",
       " array([368088, 635322, 690352, ..., 785281, 206249, 828299]),\n",
       " array([142732, 849339, 376086, ..., 796901, 528493, 276778]),\n",
       " array([751298, 856896, 272797, ..., 401252, 494483, 331823]),\n",
       " array([498598, 858963, 448518, ..., 794779, 123213, 340650]),\n",
       " array([698069, 353591, 995529, ..., 879410, 613353, 293438]),\n",
       " array([724638, 809882, 877728, ..., 135767, 317485,  26903]),\n",
       " array([480660, 718355, 618894, ..., 549504, 419317, 647289]),\n",
       " array([ 27901, 829385, 648631, ..., 760109, 784714, 873949]),\n",
       " array([448579, 114932, 213031, ..., 471498, 533521, 861904]),\n",
       " array([421291, 477429, 503840, ..., 603657, 843893, 403472]),\n",
       " array([202227, 828852, 251396, ..., 544712, 910320, 669684]),\n",
       " array([716613, 127197, 824933, ..., 105712, 942917, 428948]),\n",
       " array([909286, 423609,  98628, ..., 662269, 205932, 564003]),\n",
       " array([996508, 899709, 792066, ..., 789105, 468239,  66445]),\n",
       " array([469004, 356220, 382353, ..., 650795, 591057,  42483]),\n",
       " array([362139, 892351, 140136, ..., 798022, 742475, 940676]),\n",
       " array([145726,  92942, 186078, ..., 324461, 477324, 248548]),\n",
       " array([636595, 299637, 628046, ..., 731877, 866296, 419432]),\n",
       " array([337199, 453637, 601817, ..., 423186, 167761, 206119]),\n",
       " array([688420,  55416, 702140, ..., 974333, 560061, 755488]),\n",
       " array([203230, 681702, 675285, ..., 366423, 148389,  63343]),\n",
       " array([929380, 336128,  32990, ..., 497091, 934903, 977522]),\n",
       " array([133866, 505672, 491035, ..., 485865, 723998, 734099]),\n",
       " array([977602,  20645, 397094, ..., 280224, 512567, 663947]),\n",
       " array([209612, 722933, 771886, ..., 300170, 329415, 692482]),\n",
       " array([204874, 420516, 306175, ..., 949788, 718812, 234857]),\n",
       " array([437671, 884884,  93901, ..., 965664, 345233, 326581]),\n",
       " array([618088, 996968, 927260, ..., 432250, 984011, 862359]),\n",
       " array([379232, 362528, 325659, ..., 942986, 568639, 836341]),\n",
       " array([428122, 633864, 297674, ..., 667715, 896171,  18003]),\n",
       " array([832680, 410005, 481972, ..., 874327, 445893, 624811]),\n",
       " array([  3293, 787163, 391841, ..., 623043, 426205, 831242]),\n",
       " array([467424, 100139, 199343, ..., 224440, 442054, 962412]),\n",
       " array([945413, 411347, 579882, ..., 142621, 926450, 254814]),\n",
       " array([113248, 929184, 650185, ..., 504589, 513276, 479781]),\n",
       " array([336028, 808996, 150922, ..., 395558, 875182, 567032]),\n",
       " array([529173, 238880, 269311, ..., 320368,  79262, 964913]),\n",
       " array([155934, 210647, 172894, ..., 742617, 642688, 154909]),\n",
       " array([355647,  40206, 894994, ..., 611323, 622318, 363545]),\n",
       " array([629457, 265984, 277199, ..., 733568, 105543, 467912]),\n",
       " array([755334, 155073, 864828, ..., 386398, 433816, 453674]),\n",
       " array([799786, 945309, 175831, ..., 380416, 246632, 123807]),\n",
       " array([716146, 178294, 372133, ..., 228645, 652224, 414069]),\n",
       " array([605964, 298913, 790699, ..., 646013, 156614, 848177]),\n",
       " array([154314, 177493, 295606, ..., 225144, 594981,   3512]),\n",
       " array([172494, 320242, 222617, ..., 151871, 311104, 464651])]"
      ]
     },
     "execution_count": 23,
     "metadata": {},
     "output_type": "execute_result"
    }
   ],
   "source": [
    "no_of_sample"
   ]
  },
  {
   "cell_type": "code",
   "execution_count": 24,
   "metadata": {},
   "outputs": [],
   "source": [
    "mean_sample=[]\n"
   ]
  },
  {
   "cell_type": "code",
   "execution_count": 15,
   "metadata": {},
   "outputs": [
    {
     "data": {
      "text/plain": [
       "506517.9345"
      ]
     },
     "execution_count": 15,
     "metadata": {},
     "output_type": "execute_result"
    }
   ],
   "source": [
    "np.mean(no_of_sample[1])\n",
    " \n"
   ]
  },
  {
   "cell_type": "code",
   "execution_count": 25,
   "metadata": {},
   "outputs": [],
   "source": [
    "for i in range(100):\n",
    "    aa=np.mean(no_of_sample[i])\n",
    "    mean_sample.append(aa)"
   ]
  },
  {
   "cell_type": "code",
   "execution_count": 26,
   "metadata": {},
   "outputs": [
    {
     "data": {
      "text/plain": [
       "[499223.4189,\n",
       " 506517.9345,\n",
       " 498435.8551,\n",
       " 501018.1462,\n",
       " 502564.6739,\n",
       " 499580.4488,\n",
       " 498771.4785,\n",
       " 495835.9342,\n",
       " 503622.2348,\n",
       " 495199.934,\n",
       " 499925.7142,\n",
       " 500401.078,\n",
       " 498422.7938,\n",
       " 503689.6258,\n",
       " 501085.3316,\n",
       " 498865.2865,\n",
       " 501976.8079,\n",
       " 503469.6483,\n",
       " 501379.4901,\n",
       " 505819.9643,\n",
       " 499726.0938,\n",
       " 500893.5664,\n",
       " 500784.6704,\n",
       " 502720.7144,\n",
       " 502784.7621,\n",
       " 500103.2874,\n",
       " 495292.6074,\n",
       " 495405.4152,\n",
       " 499211.6206,\n",
       " 500907.6062,\n",
       " 500664.988,\n",
       " 498128.4558,\n",
       " 497607.2985,\n",
       " 502648.6958,\n",
       " 498010.6205,\n",
       " 504266.4392,\n",
       " 501127.8269,\n",
       " 500775.6248,\n",
       " 502121.8053,\n",
       " 497346.8267,\n",
       " 495814.0972,\n",
       " 500847.3515,\n",
       " 503546.4063,\n",
       " 504280.5312,\n",
       " 499594.6241,\n",
       " 496553.2557,\n",
       " 504032.9362,\n",
       " 499092.2743,\n",
       " 496719.8986,\n",
       " 496905.3195,\n",
       " 504239.9525,\n",
       " 504770.7587,\n",
       " 499163.71,\n",
       " 496789.1027,\n",
       " 501860.0567,\n",
       " 498689.7484,\n",
       " 502533.4605,\n",
       " 506874.9677,\n",
       " 502507.9143,\n",
       " 501453.846,\n",
       " 498596.0125,\n",
       " 500459.9339,\n",
       " 498440.8906,\n",
       " 502646.8036,\n",
       " 503920.9099,\n",
       " 499217.2332,\n",
       " 502283.3019,\n",
       " 503871.8516,\n",
       " 494993.966,\n",
       " 505448.401,\n",
       " 503416.4678,\n",
       " 500645.4553,\n",
       " 501149.1604,\n",
       " 496650.4107,\n",
       " 500915.906,\n",
       " 496069.9376,\n",
       " 499464.5943,\n",
       " 503050.7564,\n",
       " 498947.1931,\n",
       " 499443.1422,\n",
       " 501572.1698,\n",
       " 501845.6521,\n",
       " 497392.8176,\n",
       " 497180.4,\n",
       " 503900.4692,\n",
       " 499280.3986,\n",
       " 495996.7626,\n",
       " 499760.9963,\n",
       " 498793.5218,\n",
       " 499704.0179,\n",
       " 499021.3135,\n",
       " 497042.5726,\n",
       " 505649.7674,\n",
       " 499986.5005,\n",
       " 502929.6175,\n",
       " 492889.379,\n",
       " 499308.3417,\n",
       " 498715.2765,\n",
       " 500381.0598,\n",
       " 503017.8137]"
      ]
     },
     "execution_count": 26,
     "metadata": {},
     "output_type": "execute_result"
    }
   ],
   "source": [
    "mean_sample"
   ]
  },
  {
   "cell_type": "code",
   "execution_count": 27,
   "metadata": {},
   "outputs": [],
   "source": [
    "import matplotlib.pyplot as plt\n",
    "import seaborn as sns"
   ]
  },
  {
   "cell_type": "code",
   "execution_count": 32,
   "metadata": {},
   "outputs": [
    {
     "name": "stderr",
     "output_type": "stream",
     "text": [
      "C:\\Users\\adity\\AppData\\Local\\Temp\\ipykernel_9700\\1517416893.py:3: UserWarning: \n",
      "\n",
      "`distplot` is a deprecated function and will be removed in seaborn v0.14.0.\n",
      "\n",
      "Please adapt your code to use either `displot` (a figure-level function with\n",
      "similar flexibility) or `histplot` (an axes-level function for histograms).\n",
      "\n",
      "For a guide to updating your code to use the new functions, please see\n",
      "https://gist.github.com/mwaskom/de44147ed2974457ad6372750bbe5751\n",
      "\n",
      "  sns.distplot(mean_sample,hist=True,kde=True)\n"
     ]
    },
    {
     "data": {
      "text/plain": [
       "<AxesSubplot: xlabel='x', ylabel='Y'>"
      ]
     },
     "execution_count": 32,
     "metadata": {},
     "output_type": "execute_result"
    },
    {
     "data": {
      "image/png": "[encoded data removed]",
      "text/plain": [
       "<Figure size 640x480 with 1 Axes>"
      ]
     },
     "metadata": {},
     "output_type": "display_data"
    }
   ],
   "source": [
    "plt.xlabel(\"x\")\n",
    "plt.ylabel(\"Y\")\n",
    "sns.distplot(mean_sample,hist=True,kde=True)"
   ]
  },
  {
   "cell_type": "code",
   "execution_count": null,
   "metadata": {},
   "outputs": [],
   "source": []
  }
 ],
 "metadata": {
  "kernelspec": {
   "display_name": "Python 3.9.12 ('ineuron_env': venv)",
   "language": "python",
   "name": "python3"
  },
  "language_info": {
   "codemirror_mode": {
    "name": "ipython",
    "version": 3
   },
   "file_extension": ".py",
   "mimetype": "text/x-python",
   "name": "python",
   "nbconvert_exporter": "python",
   "pygments_lexer": "ipython3",
   "version": "3.9.12"
  },
  "orig_nbformat": 4,
  "vscode": {
   "interpreter": {
    "hash": "662074c9c440011d4f55722bad89b091381bfdd5b8a406eea8bbec8078045797"
   }
  }
 },
 "nbformat": 4,
 "nbformat_minor": 2
}
