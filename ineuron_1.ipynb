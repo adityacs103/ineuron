{
 "cells": [
  {
   "cell_type": "code",
   "execution_count": 2,
   "metadata": {},
   "outputs": [],
   "source": [
    "import logging\n",
    "logging.basicConfig(filename=\"test.log\",level=logging.INFO)\n",
    "logging.info(\"This is my first code\")\n",
    "logging.warning(\"This is trying to fix this \")\n",
    "logging.error(\"This is a error massage from system! \")\n",
    "l=[1,2,3,4,5,6,7]\n",
    "for i in l:\n",
    "    if i>2:\n",
    "        logging.info(i)\n",
    "logging.shutdown()\n",
    "logging.info(\"Hii this is me\")\n"
   ]
  },
  {
   "cell_type": "code",
   "execution_count": 1,
   "metadata": {},
   "outputs": [
    {
     "name": "stdout",
     "output_type": "stream",
     "text": [
      "1.0\n",
      "This block will execute what ever try and except block will run or not\n"
     ]
    }
   ],
   "source": [
    "num1=int(input(\"Enter first number\"))\n",
    "num2=int(input(\"enter second number\"))\n",
    "try:\n",
    "    print(num1/num2)\n",
    "except Exception as e:\n",
    "    print(e)\n",
    "    print(\"plz take a non- zero number\")\n",
    "finally:\n",
    "    print(\"This block will execute what ever try and except block will run or not\")\n"
   ]
  },
  {
   "cell_type": "code",
   "execution_count": 10,
   "metadata": {},
   "outputs": [
    {
     "name": "stdout",
     "output_type": "stream",
     "text": [
      "No, you don't have entered integer value\n",
      "plz enter integer value\n",
      "Execute any how \n"
     ]
    }
   ],
   "source": [
    "def abc():\n",
    "    try:\n",
    "        val=int(input(\"plz enter an integer value\"))\n",
    "    except:\n",
    "        print(\"No, you don't have entered an integer value\")\n",
    "        try:\n",
    "            val = int(input(\"plz enter an integer value\"))\n",
    "        except:\n",
    "            print(\"plz enter an integer value\")\n",
    "    finally:\n",
    "        print(\"Execute any how \")\n",
    "abc()\n"
   ]
  },
  {
   "cell_type": "code",
   "execution_count": null,
   "metadata": {},
   "outputs": [],
   "source": [
    "n=0\n",
    "while n<=5:\n",
    "    a = input(\"enter a integer\")\n",
    "    try:\n",
    "        a=int(a)\n",
    "    except Exception as e:\n",
    "        print(a)\n"
   ]
  },
  {
   "cell_type": "code",
   "execution_count": 13,
   "metadata": {},
   "outputs": [
    {
     "name": "stdout",
     "output_type": "stream",
     "text": [
      "invalid literal for int() with base 10: 'abs'\n"
     ]
    }
   ],
   "source": [
    "user_input = input(\"Enter something:\")\n",
    "try:\n",
    "    val=int(user_input)\n",
    "except Exception as e:\n",
    "    print(e)"
   ]
  },
  {
   "cell_type": "code",
   "execution_count": null,
   "metadata": {},
   "outputs": [],
   "source": [
    "\n",
    "while True:\n",
    "    global value\n",
    "    value = input(\"Enter an integer\\n\")\n",
    "    try:\n",
    "        value=int(value)\n",
    "        print(value)\n",
    "        break\n",
    "    except:\n",
    "        print(\"you have not enterd an integer\")\n",
    "        continue\n",
    "print(\"you have intered integer\",value)"
   ]
  },
  {
   "cell_type": "code",
   "execution_count": null,
   "metadata": {},
   "outputs": [],
   "source": [
    "import numpy as np\n",
    "from numpy.linalg import eigh, norm\n",
    "A = np.array([[3,1,1],[-1,3,1]])\n",
    "u= A@A.T\n",
    "ex, x = eigh(u)\n",
    "X = np.round(x, decimals=0)\n",
    "print(ex,\"\\n\",X)\n",
    "u0= X[:,0]/norm(X[:,0])\n",
    "u1= X[:,1]/norm(X[:,1])\n",
    "U = np.array([u1,u0])\n",
    "print(U)\n",
    "v= A.T@A\n",
    "print(v)\n",
    "ev, y= eigh(v)\n",
    "print(ev)\n",
    "v0 = y[:,0]/norm(y[:,0])\n",
    "v1 = y[:,1]/norm(y[:,1])\n",
    "v2 = y[:,2]/norm(y[:,2])\n",
    "V = np.array([v2,v1,v0])\n",
    "s = np.diag(ev)\n",
    "print(s)"
   ]
  },
  {
   "cell_type": "code",
   "execution_count": 23,
   "metadata": {},
   "outputs": [
    {
     "name": "stdout",
     "output_type": "stream",
     "text": [
      "[ 1.01332391e+00  5.12288342e-01 -1.00944265e+00  1.34714193e+00\n",
      "  3.74975459e-01  5.35909971e-01 -5.57164790e-01 -6.35155157e-01\n",
      " -1.59352671e+00  1.38146779e+00 -1.27838192e+00 -2.89242313e-01\n",
      "  6.82168768e-01  7.31264852e-01  6.36240062e-01  3.68485108e-01\n",
      "  9.29236445e-01 -1.43708680e+00  3.13372505e-02  7.16362004e-01\n",
      " -3.81160684e-02 -7.51484417e-01  1.64448632e+00 -1.53548314e+00\n",
      "  7.90709624e-01  4.57005896e-01  2.82475620e-01  8.30000353e-01\n",
      "  4.14922060e-01  2.99146807e-01  2.02499014e+00  8.15044886e-01\n",
      " -2.20365135e+00  1.11407000e+00  1.17711444e+00 -8.78852239e-01\n",
      "  1.90117439e+00  1.19663539e+00  3.67263933e-01 -2.42287622e-01\n",
      "  1.99397494e+00  1.11966395e+00  7.85085184e-01 -1.02895177e+00\n",
      "  8.90076071e-01 -1.18284851e-01  1.68031425e+00 -1.11701497e+00\n",
      " -4.63432476e-01  7.34799624e-01 -8.53710665e-02 -1.68925743e-02\n",
      "  6.26116629e-01 -1.58604771e-01 -1.41380153e+00 -2.28438687e-02\n",
      "  2.10961709e-02 -6.01605862e-02  8.24170190e-01  1.91347896e-01\n",
      "  1.63222031e-01  4.82425009e-01  1.09151735e+00 -8.86314823e-02\n",
      "  1.01541073e+00  1.95636619e+00 -9.75234515e-01  1.08726679e-01\n",
      " -1.03791606e+00  4.35246445e-01 -6.89840023e-01 -6.79422135e-01\n",
      " -1.84762985e-03 -4.85026347e-01 -2.78229277e-01 -9.59163477e-01\n",
      "  5.55202762e-01 -7.00503399e-01  1.47900457e+00  1.15107436e+00\n",
      "  1.13329192e+00  2.99014842e-01 -1.62841278e+00  1.64711045e-01\n",
      "  8.97016652e-01 -3.35066657e-01  8.03475482e-01 -2.33026709e-01\n",
      "  5.16936888e-01  1.58825697e-01  4.68824879e-01 -3.04674695e-01\n",
      " -1.64535460e+00  1.49791500e+00 -1.13963663e+00  4.15776781e-01\n",
      " -1.35214437e-01  1.92061269e+00 -1.29492859e+00  1.07616888e+00]\n"
     ]
    }
   ],
   "source": [
    "import matplotlib.pyplot as plt\n",
    "import numpy as np\n",
    "\n",
    "x = np.random.normal(0.05,1,100)\n",
    "print(x)\n",
    "# plt.hist(x)\n",
    "# plt.show()\n"
   ]
  },
  {
   "cell_type": "code",
   "execution_count": 5,
   "metadata": {},
   "outputs": [
    {
     "name": "stderr",
     "output_type": "stream",
     "text": [
      "c:\\Users\\adity\\anaconda3\\lib\\site-packages\\seaborn\\distributions.py:2619: FutureWarning: `distplot` is a deprecated function and will be removed in a future version. Please adapt your code to use either `displot` (a figure-level function with similar flexibility) or `kdeplot` (an axes-level function for kernel density plots).\n",
      "  warnings.warn(msg, FutureWarning)\n"
     ]
    },
    {
     "data": {
      "image/png": "[encoded data removed]",
      "text/plain": [
       "<Figure size 432x288 with 1 Axes>"
      ]
     },
     "metadata": {
      "needs_background": "light"
     },
     "output_type": "display_data"
    }
   ],
   "source": [
    "from numpy import random\n",
    "import matplotlib.pyplot as plt\n",
    "import seaborn as sns\n",
    "\n",
    "sns.distplot(random.normal(0.05,1,1000), hist=False)\n",
    "\n",
    "plt.show()\n"
   ]
  },
  {
   "cell_type": "code",
   "execution_count": null,
   "metadata": {},
   "outputs": [],
   "source": []
  }
 ],
 "metadata": {
  "kernelspec": {
   "display_name": "Python 3.9.12 ('base')",
   "language": "python",
   "name": "python3"
  },
  "language_info": {
   "codemirror_mode": {
    "name": "ipython",
    "version": 3
   },
   "file_extension": ".py",
   "mimetype": "text/x-python",
   "name": "python",
   "nbconvert_exporter": "python",
   "pygments_lexer": "ipython3",
   "version": "3.9.12"
  },
  "orig_nbformat": 4,
  "vscode": {
   "interpreter": {
    "hash": "8891f3cfb547db503e78f25128202364d60f1c09259e140a1bd236c27b0b7a43"
   }
  }
 },
 "nbformat": 4,
 "nbformat_minor": 2
}
