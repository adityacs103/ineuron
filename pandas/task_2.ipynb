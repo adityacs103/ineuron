{
 "cells": [
  {
   "cell_type": "code",
   "execution_count": 1,
   "metadata": {},
   "outputs": [
    {
     "data": {
      "text/plain": [
       "\" \\ntask 1 for fitbit dataset\\n1. load this dataset\\n2. while creating a table in sql don't use manual approach to create it , always use a automation\\n :- hints- use csvkit library to automate this task and to load dataset in bilk in mysql\\n3. convert all the dates avaible in dataset to timestamp format in pandas and in sql you to convert it in date format\\n4 . Find out in this data that how many unique id's we have \\n5 . which id is one of the active id that you have in whole dataset \\n6 . how many of them have not logged there activity find out in terms of number of ids \\n7 . Find out who is the laziest person id that we have in dataset \\n8 . Explore over an internet that how much calories burn is required for a healthy person and find out how many healthy person we have in our dataset \\n9. how many person are not a regular person with respect to activity try to find out those \\n10 . who is the thired most active person in this dataset find out those in pandas and in sql both . \\n11 . who is the 5th most laziest person avilable in dataset find it out \\n12 . what is a totla acumulative calories burn for a person find out \\n\""
      ]
     },
     "execution_count": 1,
     "metadata": {},
     "output_type": "execute_result"
    }
   ],
   "source": [
    "''' \n",
    "task 1 for fitbit dataset\n",
    "1. load this dataset\n",
    "2. while creating a table in sql don't use manual approach to create it , always use a automation\n",
    " :- hints- use csvkit library to automate this task and to load dataset in bilk in mysql\n",
    "3. convert all the dates avaible in dataset to timestamp format in pandas and in sql you to convert it in date format\n",
    "4 . Find out in this data that how many unique id's we have \n",
    "5 . which id is one of the active id that you have in whole dataset \n",
    "6 . how many of them have not logged there activity find out in terms of number of ids \n",
    "7 . Find out who is the laziest person id that we have in dataset \n",
    "8 . Explore over an internet that how much calories burn is required for a healthy person and find out how many healthy person we have in our dataset \n",
    "9. how many person are not a regular person with respect to activity try to find out those \n",
    "10 . who is the thired most active person in this dataset find out those in pandas and in sql both . \n",
    "11 . who is the 5th most laziest person avilable in dataset find it out \n",
    "12 . what is a totla acumulative calories burn for a person find out \n",
    "'''"
   ]
  },
  {
   "cell_type": "code",
   "execution_count": 2,
   "metadata": {},
   "outputs": [
    {
     "data": {
      "text/plain": [
       "'\\n#task 2 - Superstore_USA\\n1 . load this data in sql and in pandas with a relation in sql \\n2 . while loading this data you dont have to create a table manually you can use any automated approach to create a table and load a data in bulk in table \\n3 . Find out how return that we ahve recived and with a product id \\n4 . try  to join order and return data both in sql and pandas \\n5 . Try to find out how many unique customer that we have \\n6 . try to find out in how many regions we are selling a product and who is a manager for a respective region \\n7 . find out how many different differnet shipement mode that we have and what is a percentage usablity of all the shipment mode with respect to dataset \\n8 . Create a new coulmn and try to find our a diffrence between order date and shipment date\\n9 . base on question number 8 find out for which order id we have shipment duration more than 10 days \\n10 . Try to find out a list of a returned order which sihpment duration was more then 15 days and find out that region manager as well \\n11 . Gorup by region and find out which region is more profitable \\n12 . Try to find out overalll in which country we are giving more didscount \\n13 . Give me a list of unique postal code \\n14 . which customer segement is more profitalble find it out . \\n15 . try to find out the 10th most loss making product catagory . \\n16 . Try to find out 10 top  product with highest margins '"
      ]
     },
     "execution_count": 2,
     "metadata": {},
     "output_type": "execute_result"
    }
   ],
   "source": [
    "'''\n",
    "#task 2 - Superstore_USA\n",
    "1 . load this data in sql and in pandas with a relation in sql \n",
    "2 . while loading this data you dont have to create a table manually you can use any automated approach to create a table and load a data in bulk in table \n",
    "3 . Find out how return that we ahve recived and with a product id \n",
    "4 . try  to join order and return data both in sql and pandas \n",
    "5 . Try to find out how many unique customer that we have \n",
    "6 . try to find out in how many regions we are selling a product and who is a manager for a respective region \n",
    "7 . find out how many different differnet shipement mode that we have and what is a percentage usablity of all the shipment mode with respect to dataset \n",
    "8 . Create a new coulmn and try to find our a diffrence between order date and shipment date\n",
    "9 . base on question number 8 find out for which order id we have shipment duration more than 10 days \n",
    "10 . Try to find out a list of a returned order which sihpment duration was more then 15 days and find out that region manager as well \n",
    "11 . Gorup by region and find out which region is more profitable \n",
    "12 . Try to find out overalll in which country we are giving more didscount \n",
    "13 . Give me a list of unique postal code \n",
    "14 . which customer segement is more profitalble find it out . \n",
    "15 . try to find out the 10th most loss making product catagory . \n",
    "16 . Try to find out 10 top  product with highest margins '''"
   ]
  },
  {
   "cell_type": "code",
   "execution_count": 3,
   "metadata": {},
   "outputs": [],
   "source": [
    "import pandas as pd"
   ]
  },
  {
   "cell_type": "code",
   "execution_count": 4,
   "metadata": {},
   "outputs": [],
   "source": [
    "df=pd.read_csv('https://raw.githubusercontent.com/adityacs103/ineuron/main/pandas/FitBit%20data.csv')\n"
   ]
  },
  {
   "cell_type": "code",
   "execution_count": 5,
   "metadata": {},
   "outputs": [
    {
     "data": {
      "text/html": [
       "<div>\n",
       "<style scoped>\n",
       "    .dataframe tbody tr th:only-of-type {\n",
       "        vertical-align: middle;\n",
       "    }\n",
       "\n",
       "    .dataframe tbody tr th {\n",
       "        vertical-align: top;\n",
       "    }\n",
       "\n",
       "    .dataframe thead th {\n",
       "        text-align: right;\n",
       "    }\n",
       "</style>\n",
       "<table border=\"1\" class=\"dataframe\">\n",
       "  <thead>\n",
       "    <tr style=\"text-align: right;\">\n",
       "      <th></th>\n",
       "      <th>Id</th>\n",
       "      <th>ActivityDate</th>\n",
       "      <th>TotalSteps</th>\n",
       "      <th>TotalDistance</th>\n",
       "      <th>TrackerDistance</th>\n",
       "      <th>LoggedActivitiesDistance</th>\n",
       "      <th>VeryActiveDistance</th>\n",
       "      <th>ModeratelyActiveDistance</th>\n",
       "      <th>LightActiveDistance</th>\n",
       "      <th>SedentaryActiveDistance</th>\n",
       "      <th>VeryActiveMinutes</th>\n",
       "      <th>FairlyActiveMinutes</th>\n",
       "      <th>LightlyActiveMinutes</th>\n",
       "      <th>SedentaryMinutes</th>\n",
       "      <th>Calories</th>\n",
       "    </tr>\n",
       "  </thead>\n",
       "  <tbody>\n",
       "    <tr>\n",
       "      <th>0</th>\n",
       "      <td>1503960366</td>\n",
       "      <td>3/25/2016</td>\n",
       "      <td>11004</td>\n",
       "      <td>7.11</td>\n",
       "      <td>7.11</td>\n",
       "      <td>0.0</td>\n",
       "      <td>2.57</td>\n",
       "      <td>0.46</td>\n",
       "      <td>4.07</td>\n",
       "      <td>0.0</td>\n",
       "      <td>33</td>\n",
       "      <td>12</td>\n",
       "      <td>205</td>\n",
       "      <td>804</td>\n",
       "      <td>1819</td>\n",
       "    </tr>\n",
       "    <tr>\n",
       "      <th>1</th>\n",
       "      <td>1503960366</td>\n",
       "      <td>3/26/2016</td>\n",
       "      <td>17609</td>\n",
       "      <td>11.55</td>\n",
       "      <td>11.55</td>\n",
       "      <td>0.0</td>\n",
       "      <td>6.92</td>\n",
       "      <td>0.73</td>\n",
       "      <td>3.91</td>\n",
       "      <td>0.0</td>\n",
       "      <td>89</td>\n",
       "      <td>17</td>\n",
       "      <td>274</td>\n",
       "      <td>588</td>\n",
       "      <td>2154</td>\n",
       "    </tr>\n",
       "    <tr>\n",
       "      <th>2</th>\n",
       "      <td>1503960366</td>\n",
       "      <td>3/27/2016</td>\n",
       "      <td>12736</td>\n",
       "      <td>8.53</td>\n",
       "      <td>8.53</td>\n",
       "      <td>0.0</td>\n",
       "      <td>4.66</td>\n",
       "      <td>0.16</td>\n",
       "      <td>3.71</td>\n",
       "      <td>0.0</td>\n",
       "      <td>56</td>\n",
       "      <td>5</td>\n",
       "      <td>268</td>\n",
       "      <td>605</td>\n",
       "      <td>1944</td>\n",
       "    </tr>\n",
       "    <tr>\n",
       "      <th>3</th>\n",
       "      <td>1503960366</td>\n",
       "      <td>3/28/2016</td>\n",
       "      <td>13231</td>\n",
       "      <td>8.93</td>\n",
       "      <td>8.93</td>\n",
       "      <td>0.0</td>\n",
       "      <td>3.19</td>\n",
       "      <td>0.79</td>\n",
       "      <td>4.95</td>\n",
       "      <td>0.0</td>\n",
       "      <td>39</td>\n",
       "      <td>20</td>\n",
       "      <td>224</td>\n",
       "      <td>1080</td>\n",
       "      <td>1932</td>\n",
       "    </tr>\n",
       "    <tr>\n",
       "      <th>4</th>\n",
       "      <td>1503960366</td>\n",
       "      <td>3/29/2016</td>\n",
       "      <td>12041</td>\n",
       "      <td>7.85</td>\n",
       "      <td>7.85</td>\n",
       "      <td>0.0</td>\n",
       "      <td>2.16</td>\n",
       "      <td>1.09</td>\n",
       "      <td>4.61</td>\n",
       "      <td>0.0</td>\n",
       "      <td>28</td>\n",
       "      <td>28</td>\n",
       "      <td>243</td>\n",
       "      <td>763</td>\n",
       "      <td>1886</td>\n",
       "    </tr>\n",
       "  </tbody>\n",
       "</table>\n",
       "</div>"
      ],
      "text/plain": [
       "           Id ActivityDate  TotalSteps  TotalDistance  TrackerDistance  \\\n",
       "0  1503960366    3/25/2016       11004           7.11             7.11   \n",
       "1  1503960366    3/26/2016       17609          11.55            11.55   \n",
       "2  1503960366    3/27/2016       12736           8.53             8.53   \n",
       "3  1503960366    3/28/2016       13231           8.93             8.93   \n",
       "4  1503960366    3/29/2016       12041           7.85             7.85   \n",
       "\n",
       "   LoggedActivitiesDistance  VeryActiveDistance  ModeratelyActiveDistance  \\\n",
       "0                       0.0                2.57                      0.46   \n",
       "1                       0.0                6.92                      0.73   \n",
       "2                       0.0                4.66                      0.16   \n",
       "3                       0.0                3.19                      0.79   \n",
       "4                       0.0                2.16                      1.09   \n",
       "\n",
       "   LightActiveDistance  SedentaryActiveDistance  VeryActiveMinutes  \\\n",
       "0                 4.07                      0.0                 33   \n",
       "1                 3.91                      0.0                 89   \n",
       "2                 3.71                      0.0                 56   \n",
       "3                 4.95                      0.0                 39   \n",
       "4                 4.61                      0.0                 28   \n",
       "\n",
       "   FairlyActiveMinutes  LightlyActiveMinutes  SedentaryMinutes  Calories  \n",
       "0                   12                   205               804      1819  \n",
       "1                   17                   274               588      2154  \n",
       "2                    5                   268               605      1944  \n",
       "3                   20                   224              1080      1932  \n",
       "4                   28                   243               763      1886  "
      ]
     },
     "execution_count": 5,
     "metadata": {},
     "output_type": "execute_result"
    }
   ],
   "source": [
    "df.head()"
   ]
  },
  {
   "cell_type": "code",
   "execution_count": null,
   "metadata": {},
   "outputs": [],
   "source": []
  },
  {
   "cell_type": "code",
   "execution_count": null,
   "metadata": {},
   "outputs": [],
   "source": []
  }
 ],
 "metadata": {
  "kernelspec": {
   "display_name": "Python 3.9.12 ('venv')",
   "language": "python",
   "name": "python3"
  },
  "language_info": {
   "codemirror_mode": {
    "name": "ipython",
    "version": 3
   },
   "file_extension": ".py",
   "mimetype": "text/x-python",
   "name": "python",
   "nbconvert_exporter": "python",
   "pygments_lexer": "ipython3",
   "version": "3.9.12"
  },
  "orig_nbformat": 4,
  "vscode": {
   "interpreter": {
    "hash": "badd9e96ae96460cbd1892affdc458cf50fa024928bd6de1a39075ab5114e4d4"
   }
  }
 },
 "nbformat": 4,
 "nbformat_minor": 2
}
