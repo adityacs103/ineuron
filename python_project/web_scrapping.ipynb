{
 "cells": [
  {
   "cell_type": "code",
   "execution_count": 1,
   "metadata": {},
   "outputs": [],
   "source": [
    "from flask import Flask ,render_template , request, jsonify\n"
   ]
  },
  {
   "cell_type": "code",
   "execution_count": 2,
   "metadata": {},
   "outputs": [],
   "source": [
    "from bs4 import BeautifulSoup as bs"
   ]
  },
  {
   "cell_type": "code",
   "execution_count": 3,
   "metadata": {},
   "outputs": [],
   "source": [
    "from urllib.request import urlopen as urReq"
   ]
  },
  {
   "cell_type": "code",
   "execution_count": 24,
   "metadata": {},
   "outputs": [],
   "source": [
    "flipcart_url=\"https://www.flipkart.com/search?q=\"+\"iphone11\""
   ]
  },
  {
   "cell_type": "code",
   "execution_count": 25,
   "metadata": {},
   "outputs": [
    {
     "data": {
      "text/plain": [
       "'https://www.flipkart.com/search?q=iphone11'"
      ]
     },
     "execution_count": 25,
     "metadata": {},
     "output_type": "execute_result"
    }
   ],
   "source": [
    "flipcart_url"
   ]
  },
  {
   "cell_type": "code",
   "execution_count": 26,
   "metadata": {},
   "outputs": [],
   "source": [
    "response_website=urReq(flipcart_url)"
   ]
  },
  {
   "cell_type": "code",
   "execution_count": 27,
   "metadata": {},
   "outputs": [],
   "source": [
    "data_flipcart=response_website.read()"
   ]
  },
  {
   "cell_type": "code",
   "execution_count": 28,
   "metadata": {},
   "outputs": [],
   "source": [
    "beautifyed_html=bs(data_flipcart,\"html.parser\")"
   ]
  },
  {
   "cell_type": "code",
   "execution_count": 33,
   "metadata": {},
   "outputs": [],
   "source": [
    "bigbox=beautifyed_html.find_all(\"div\", {\"class\": \"_1AtVbE col-12-12\"})"
   ]
  },
  {
   "cell_type": "code",
   "execution_count": 37,
   "metadata": {},
   "outputs": [
    {
     "data": {
      "text/plain": [
       "'/apple-iphone-11-purple-128-gb/p/itmb7ca0b05522ff?pid=MOBFWQ6BEHFXGXGB&lid=LSTMOBFWQ6BEHFXGXGBBI1U9D&marketplace=FLIPKART&q=iphone11&store=tyy%2F4io&srno=s_1_5&otracker=search&fm=organic&iid=f197144a-3767-48f6-bc4c-bdb484235fce.MOBFWQ6BEHFXGXGB.SEARCH&ppt=None&ppn=None&ssid=kg6yp59n7k0000001671787210624&qH=d6db477051465f9a'"
      ]
     },
     "execution_count": 37,
     "metadata": {},
     "output_type": "execute_result"
    }
   ],
   "source": [
    "bigbox[6].div.div.div.a['href']"
   ]
  },
  {
   "cell_type": "code",
   "execution_count": 43,
   "metadata": {},
   "outputs": [],
   "source": [
    "product6=\"https://www.flipkart.com\"+bigbox[6].div.div.div.a['href']"
   ]
  },
  {
   "cell_type": "code",
   "execution_count": 44,
   "metadata": {},
   "outputs": [],
   "source": [
    "import requests"
   ]
  },
  {
   "cell_type": "code",
   "execution_count": 49,
   "metadata": {},
   "outputs": [],
   "source": [
    "product66=requests.get(product6)"
   ]
  },
  {
   "cell_type": "code",
   "execution_count": 48,
   "metadata": {},
   "outputs": [
    {
     "data": {
      "text/plain": [
       "'https://www.flipkart.com/apple-iphone-11-purple-128-gb/p/itmb7ca0b05522ff?pid=MOBFWQ6BEHFXGXGB&lid=LSTMOBFWQ6BEHFXGXGBBI1U9D&marketplace=FLIPKART&q=iphone11&store=tyy%2F4io&srno=s_1_5&otracker=search&fm=organic&iid=f197144a-3767-48f6-bc4c-bdb484235fce.MOBFWQ6BEHFXGXGB.SEARCH&ppt=None&ppn=None&ssid=kg6yp59n7k0000001671787210624&qH=d6db477051465f9a'"
      ]
     },
     "execution_count": 48,
     "metadata": {},
     "output_type": "execute_result"
    }
   ],
   "source": [
    "product6"
   ]
  },
  {
   "cell_type": "code",
   "execution_count": 50,
   "metadata": {},
   "outputs": [],
   "source": [
    "product66.encoding=\"utf-8\""
   ]
  },
  {
   "cell_type": "code",
   "execution_count": 52,
   "metadata": {},
   "outputs": [],
   "source": [
    "product6_page=bs(product66.text,\"html.parser\")"
   ]
  },
  {
   "cell_type": "code",
   "execution_count": 54,
   "metadata": {},
   "outputs": [],
   "source": [
    "all_review=product6_page.find_all('div',{\"class\":\"_16PBlm\"})"
   ]
  },
  {
   "cell_type": "code",
   "execution_count": 55,
   "metadata": {},
   "outputs": [
    {
     "data": {
      "text/plain": [
       "11"
      ]
     },
     "execution_count": 55,
     "metadata": {},
     "output_type": "execute_result"
    }
   ],
   "source": [
    "len(all_review)"
   ]
  },
  {
   "cell_type": "code",
   "execution_count": 56,
   "metadata": {},
   "outputs": [
    {
     "data": {
      "text/plain": [
       "<div class=\"_16PBlm _3_IKGE\"><div class=\"col\"><div class=\"col _2wzgFH\"><div class=\"row\"><div class=\"_3LWZlK _1BLPMq\">5<img class=\"_1wB99o\" src=\"data:image/svg+xml;base64,PHN2ZyB4bWxucz0iaHR0cDovL3d3dy53My5vcmcvMjAwMC9zdmciIHdpZHRoPSIxMyIgaGVpZ2h0PSIxMiI+PHBhdGggZmlsbD0iI0ZGRiIgZD0iTTYuNSA5LjQzOWwtMy42NzQgMi4yMy45NC00LjI2LTMuMjEtMi44ODMgNC4yNTQtLjQwNEw2LjUuMTEybDEuNjkgNC4wMSA0LjI1NC40MDQtMy4yMSAyLjg4Mi45NCA0LjI2eiIvPjwvc3ZnPg==\"/></div><p class=\"_2-N8zT\">Worth every penny</p></div><div class=\"row\"><div class=\"t-ZTKy\"><div><div class=\"\">Previously I was using one plus 3t it was a great phone <br/>And then I decided to upgrade I am stuck between Samsung s10 plus or iPhone 11 <br/>I have seen the specs and everything were good except the display it’s somewhere between 720-1080 and it’s not even an amoled it’s an LCD display <br/>But I decided to go with iPhone because I have never used an IOS device I have Been an android user from the past 9 years I ordered IPhone 11 (128gb) product red<br/>My experience after using 3 weeks <br/>1. The delivery ...</div><span class=\"_1BWGvX\"><span>READ MORE</span></span></div></div></div><div class=\"_2nMSwX _3oLIki\"><div class=\"_21YjFX _2A07HP\" style=\"background-image:url(https://rukminim1.flixcart.com/blobio/124/124/imr-202001/blobio-imr-202001_2b4774125c5240d58cd85d4508b0bcba.jpeg?q=90), url(data:image/svg+xml;base64,PHN2ZyB3aWR0aD0iMjIiIGhlaWdodD0iMTgiIHhtbG5zPSJodHRwOi8vd3d3LnczLm9yZy8yMDAwL3N2ZyI+PGcgZmlsbD0iIzlEOUQ5RCIgZmlsbC1ydWxlPSJub256ZXJvIj48cGF0aCBkPSJNMjAgMEgyQzEgMCAwIDEgMCAydjE0YzAgMS4xLjkgMiAyIDJoMThjMSAwIDItMSAyLTJWMmMwLTEtMS0yLTItMnptMCAxNS45MmMtLjAyLjAzLS4wNi4wNi0uMDguMDhIMlYyLjA4TDIuMDggMmgxNy44M2MuMDMuMDIuMDYuMDYuMDguMDh2MTMuODRIMjB6Ii8+PHBhdGggZD0iTTEwIDEyLjUxTDcuNSA5LjUgNCAxNGgxNGwtNC41LTZ6Ii8+PC9nPjwvc3ZnPg==);width:62px;height:62px\"></div><div class=\"_21YjFX _2A07HP\" style=\"background-image:url(https://rukminim1.flixcart.com/blobio/124/124/imr-202001/blobio-imr-202001_7dd8875e0d7c4c879adde8d97ff3c066.jpeg?q=90), url(data:image/svg+xml;base64,PHN2ZyB3aWR0aD0iMjIiIGhlaWdodD0iMTgiIHhtbG5zPSJodHRwOi8vd3d3LnczLm9yZy8yMDAwL3N2ZyI+PGcgZmlsbD0iIzlEOUQ5RCIgZmlsbC1ydWxlPSJub256ZXJvIj48cGF0aCBkPSJNMjAgMEgyQzEgMCAwIDEgMCAydjE0YzAgMS4xLjkgMiAyIDJoMThjMSAwIDItMSAyLTJWMmMwLTEtMS0yLTItMnptMCAxNS45MmMtLjAyLjAzLS4wNi4wNi0uMDguMDhIMlYyLjA4TDIuMDggMmgxNy44M2MuMDMuMDIuMDYuMDYuMDguMDh2MTMuODRIMjB6Ii8+PHBhdGggZD0iTTEwIDEyLjUxTDcuNSA5LjUgNCAxNGgxNGwtNC41LTZ6Ii8+PC9nPjwvc3ZnPg==);width:62px;height:62px\"></div><div class=\"_21YjFX _2A07HP\" style=\"background-image:url(https://rukminim1.flixcart.com/blobio/124/124/imr-202001/blobio-imr-202001_644e764fe14946d7913c05cd292e0c20.jpeg?q=90), url(data:image/svg+xml;base64,PHN2ZyB3aWR0aD0iMjIiIGhlaWdodD0iMTgiIHhtbG5zPSJodHRwOi8vd3d3LnczLm9yZy8yMDAwL3N2ZyI+PGcgZmlsbD0iIzlEOUQ5RCIgZmlsbC1ydWxlPSJub256ZXJvIj48cGF0aCBkPSJNMjAgMEgyQzEgMCAwIDEgMCAydjE0YzAgMS4xLjkgMiAyIDJoMThjMSAwIDItMSAyLTJWMmMwLTEtMS0yLTItMnptMCAxNS45MmMtLjAyLjAzLS4wNi4wNi0uMDguMDhIMlYyLjA4TDIuMDggMmgxNy44M2MuMDMuMDIuMDYuMDYuMDguMDh2MTMuODRIMjB6Ii8+PHBhdGggZD0iTTEwIDEyLjUxTDcuNSA5LjUgNCAxNGgxNGwtNC41LTZ6Ii8+PC9nPjwvc3ZnPg==);width:62px;height:62px\"></div><div class=\"_21YjFX _2A07HP\" style=\"background-image:url(https://rukminim1.flixcart.com/blobio/124/124/imr-202001/blobio-imr-202001_5ab68a8f0de248edaf45ea7d410d4c46.jpeg?q=90), url(data:image/svg+xml;base64,PHN2ZyB3aWR0aD0iMjIiIGhlaWdodD0iMTgiIHhtbG5zPSJodHRwOi8vd3d3LnczLm9yZy8yMDAwL3N2ZyI+PGcgZmlsbD0iIzlEOUQ5RCIgZmlsbC1ydWxlPSJub256ZXJvIj48cGF0aCBkPSJNMjAgMEgyQzEgMCAwIDEgMCAydjE0YzAgMS4xLjkgMiAyIDJoMThjMSAwIDItMSAyLTJWMmMwLTEtMS0yLTItMnptMCAxNS45MmMtLjAyLjAzLS4wNi4wNi0uMDguMDhIMlYyLjA4TDIuMDggMmgxNy44M2MuMDMuMDIuMDYuMDYuMDguMDh2MTMuODRIMjB6Ii8+PHBhdGggZD0iTTEwIDEyLjUxTDcuNSA5LjUgNCAxNGgxNGwtNC41LTZ6Ii8+PC9nPjwvc3ZnPg==);width:62px;height:62px\"></div></div><div class=\"row _3n8db9\"><div class=\"row\"><p class=\"_2sc7ZR _2V5EHH\">Vamshi  Chakrala </p><svg class=\"_2a1p_T\" height=\"14\" viewbox=\"0 0 12 12\" width=\"14\" xmlns=\"http://www.w3.org/2000/svg\"><g><circle cx=\"6\" cy=\"6\" fill=\"#878787\" r=\"6\"></circle><path d=\"M3 6l2 2 4-4\" fill=\"#878787\" stroke=\"#FFF\" stroke-width=\"1.5\"></path></g></svg><p class=\"_2mcZGG\" id=\"review-e3e454a3-814b-4962-81d9-3a4277c239c3\"><span>Certified Buyer</span><span>, Huzurnagar</span></p><div></div><p class=\"_2sc7ZR\">Jan, 2020</p></div><div class=\"_1e9_Zu\"><div class=\"row\"><div class=\"_27aTsS\"><div class=\"_1LmwT9\"><svg class=\"skCrcq\" height=\"15\" width=\"20\" xmlns=\"http://www.w3.org/2000/svg\"><path class=\"_1LIt4y\" d=\"M9.58.006c-.41.043-.794.32-1.01.728-.277.557-2.334 4.693-2.74 5.1-.41.407-.944.6-1.544.6v8.572h7.5c.45 0 .835-.28 1.007-.665 0 0 2.207-6.234 2.207-6.834 0-.6-.47-1.072-1.07-1.072h-3.216c-.6 0-1.07-.535-1.07-1.07 0-.537.835-3.387 1.006-3.944.17-.557-.107-1.157-.664-1.35-.15-.043-.257-.086-.407-.064zM0 6.434v8.572h2.143V6.434H0z\" fill=\"#fff\" fill-rule=\"evenodd\"></path></svg><span class=\"_3c3Px5\">11372</span></div><div class=\"_1LmwT9 pkR4jH\"><svg class=\"skCrcq pkR4jH\" height=\"15\" width=\"20\" xmlns=\"http://www.w3.org/2000/svg\"><path class=\"_1LIt4y\" d=\"M9.58.006c-.41.043-.794.32-1.01.728-.277.557-2.334 4.693-2.74 5.1-.41.407-.944.6-1.544.6v8.572h7.5c.45 0 .835-.28 1.007-.665 0 0 2.207-6.234 2.207-6.834 0-.6-.47-1.072-1.07-1.072h-3.216c-.6 0-1.07-.535-1.07-1.07 0-.537.835-3.387 1.006-3.944.17-.557-.107-1.157-.664-1.35-.15-.043-.257-.086-.407-.064zM0 6.434v8.572h2.143V6.434H0z\" fill=\"#fff\" fill-rule=\"evenodd\"></path></svg><span class=\"_3c3Px5\">1613</span></div></div><div class=\"_2bmov8\"><svg class=\"_2UvOBb\" height=\"11\" viewbox=\"0 0 16 27\" width=\"6\" xmlns=\"http://www.w3.org/2000/svg\"><path class=\"_2aPE6f\" d=\"M16 23.207L6.11 13.161 16 3.093 12.955 0 0 13.161l12.955 13.161z\" fill=\"#fff\"></path></svg><div class=\"_3E8aIl _38dCuf\"><div class=\"_3XCI6U\"><a href=\"/reviews/e3e454a3-814b-4962-81d9-3a4277c239c3\"><span>Permalink</span></a></div><div class=\"_3XCI6U _2b2z-j\"><span>Report Abuse</span></div></div></div></div></div></div></div></div></div>"
      ]
     },
     "execution_count": 56,
     "metadata": {},
     "output_type": "execute_result"
    }
   ],
   "source": [
    "all_review[5]"
   ]
  },
  {
   "cell_type": "code",
   "execution_count": null,
   "metadata": {},
   "outputs": [],
   "source": []
  }
 ],
 "metadata": {
  "kernelspec": {
   "display_name": "Python 3.9.12 ('ineuron_env': venv)",
   "language": "python",
   "name": "python3"
  },
  "language_info": {
   "codemirror_mode": {
    "name": "ipython",
    "version": 3
   },
   "file_extension": ".py",
   "mimetype": "text/x-python",
   "name": "python",
   "nbconvert_exporter": "python",
   "pygments_lexer": "ipython3",
   "version": "3.9.12"
  },
  "orig_nbformat": 4,
  "vscode": {
   "interpreter": {
    "hash": "662074c9c440011d4f55722bad89b091381bfdd5b8a406eea8bbec8078045797"
   }
  }
 },
 "nbformat": 4,
 "nbformat_minor": 2
}
