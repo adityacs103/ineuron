{
 "cells": [
  {
   "cell_type": "code",
   "execution_count": 42,
   "metadata": {},
   "outputs": [],
   "source": [
    "# Q1. search elements in list with the help of class and object\n",
    "import logging\n",
    "logging.basicConfig(filename=\"file_class.log\", filemode='w',\n",
    "                    level=logging.DEBUG, format=\"%(asctime)s %(levelname)s %(message)s\")\n",
    "\n",
    "\n",
    "class SearchClass:\n",
    "    def __init__(self, data):\n",
    "        self.data = data\n",
    "\n",
    "    def search(self, element):\n",
    "        try:\n",
    "            logging.info(\"checking the element in list\")\n",
    "\n",
    "            for i in range(len(self.data)):\n",
    "                if self.data[i] == element:\n",
    "                    logging.info(\"element found\")\n",
    "                    return i, True\n",
    "            logging.info(\"element not found\")\n",
    "            return False\n",
    "        except Exception as e:\n",
    "            logging.error(e)"
   ]
  },
  {
   "cell_type": "code",
   "execution_count": 43,
   "metadata": {},
   "outputs": [],
   "source": [
    "s1=SearchClass([1,2,3,4,5,6,7,8])"
   ]
  },
  {
   "cell_type": "code",
   "execution_count": 44,
   "metadata": {},
   "outputs": [
    {
     "data": {
      "text/plain": [
       "[1, 2, 3, 4, 5, 6, 7, 8]"
      ]
     },
     "execution_count": 44,
     "metadata": {},
     "output_type": "execute_result"
    }
   ],
   "source": [
    "s1.data"
   ]
  },
  {
   "cell_type": "code",
   "execution_count": 46,
   "metadata": {},
   "outputs": [
    {
     "data": {
      "text/plain": [
       "False"
      ]
     },
     "execution_count": 46,
     "metadata": {},
     "output_type": "execute_result"
    }
   ],
   "source": [
    "s1.search(10)"
   ]
  },
  {
   "cell_type": "code",
   "execution_count": 16,
   "metadata": {},
   "outputs": [],
   "source": [
    "# Q2. add element in dictionary using class object and logging\n",
    "import logging\n",
    "logging.basicConfig(filename=\"test.log\",level=logging.DEBUG,format=\"%(asctime)s %(levelname)s %(message)s\")\n",
    "class AddDict:\n",
    "    def __init__(self,data):\n",
    "        self.data = data\n",
    "        try:\n",
    "            logging.info(\"checking the input datatype\")\n",
    "            if type(self.data)!=dict:\n",
    "             logging.error(f\"input data {self.data} is not in dictionary\")\n",
    "        except Exception as e:\n",
    "            logging.error(e) \n",
    "    \n",
    "    def update_dict(self,element):\n",
    "        try:\n",
    "            logging.info(\"cheking the datatype of new data\")\n",
    "            if type(self.data)==dict and type(element)==dict:\n",
    "                self.data.update(element)\n",
    "                logging.info(\"update successful\")\n",
    "                return self.data\n",
    "            else:\n",
    "                logging.error(f\"your {element} is not a dictionary\")\n",
    "                logging.info(\"update failed\")\n",
    "        except Exception as e:\n",
    "            logging.error(e)"
   ]
  },
  {
   "cell_type": "code",
   "execution_count": 2,
   "metadata": {},
   "outputs": [],
   "source": [
    "a1=AddDict({\"key1\": \"value1\", \"key2\": \"value2\"})"
   ]
  },
  {
   "cell_type": "code",
   "execution_count": 3,
   "metadata": {},
   "outputs": [
    {
     "data": {
      "text/plain": [
       "{'key1': 'value1', 'key2': 'value2'}"
      ]
     },
     "execution_count": 3,
     "metadata": {},
     "output_type": "execute_result"
    }
   ],
   "source": [
    "a1.data"
   ]
  },
  {
   "cell_type": "code",
   "execution_count": 4,
   "metadata": {},
   "outputs": [
    {
     "data": {
      "text/plain": [
       "{'key1': 'value1', 'key2': 'value2', 'key3': 'value3'}"
      ]
     },
     "execution_count": 4,
     "metadata": {},
     "output_type": "execute_result"
    }
   ],
   "source": [
    "a1.update_dict({\"key3\": \"value3\"})"
   ]
  },
  {
   "cell_type": "code",
   "execution_count": 17,
   "metadata": {},
   "outputs": [],
   "source": [
    "a2=AddDict([1,2,3,4,5])"
   ]
  },
  {
   "cell_type": "code",
   "execution_count": 18,
   "metadata": {},
   "outputs": [
    {
     "data": {
      "text/plain": [
       "[1, 2, 3, 4, 5]"
      ]
     },
     "execution_count": 18,
     "metadata": {},
     "output_type": "execute_result"
    }
   ],
   "source": [
    "a2.data"
   ]
  },
  {
   "cell_type": "code",
   "execution_count": 19,
   "metadata": {},
   "outputs": [],
   "source": [
    "a2.update_dict(3)"
   ]
  },
  {
   "cell_type": "code",
   "execution_count": null,
   "metadata": {},
   "outputs": [],
   "source": []
  }
 ],
 "metadata": {
  "kernelspec": {
   "display_name": "work-env",
   "language": "python",
   "name": "python3"
  },
  "language_info": {
   "codemirror_mode": {
    "name": "ipython",
    "version": 3
   },
   "file_extension": ".py",
   "mimetype": "text/x-python",
   "name": "python",
   "nbconvert_exporter": "python",
   "pygments_lexer": "ipython3",
   "version": "3.11.4"
  }
 },
 "nbformat": 4,
 "nbformat_minor": 2
}
