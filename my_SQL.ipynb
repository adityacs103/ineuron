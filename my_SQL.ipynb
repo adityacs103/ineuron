{
 "cells": [
  {
   "cell_type": "code",
   "execution_count": null,
   "metadata": {
    "tags": []
   },
   "outputs": [],
   "source": [
    "import mysql.connector as connection\n",
    "from sqlalchemy import VARCHAR\n",
    "mydb=connection.connect(host=\"localhost\",user=\"root\",passwd=\"11223344\")\n",
    "print(mydb)\n",
    "cursor=mydb.cursor()\n",
    "# cursor.execute(\"create database Shudhanshu\")\n",
    "cursor.execute(\"show databases\")\n",
    "cursor.execute(\"create table shudhanshu.ineuron(employee_id int(10), emp_name VARCHAR(80) emp_mailid VARCHAR(50),emp_salary int(10) emp_attendance int(3)) \")\n",
    "\n",
    "print(cursor.fetchall())\n",
    "\n"
   ]
  },
  {
   "cell_type": "code",
   "execution_count": 16,
   "metadata": {},
   "outputs": [
    {
     "name": "stdout",
     "output_type": "stream",
     "text": [
      "<mysql.connector.connection_cext.CMySQLConnection object at 0x000001F84AA38A60>\n"
     ]
    }
   ],
   "source": [
    "import mysql.connector as connection\n",
    "mydb = connection.connect(host=\"localhost\", user=\"root\", passwd=\"11223344\")\n",
    "print(mydb)\n",
    "cursor = mydb.cursor()\n",
    "#  cursor.execute(\"create database Shudhanshu\")\n",
    "cursor.execute(\"create table shudhanshu.ineuron1(employee_id int(10), emp_name varchar(80), emp_mailid varchar(50),emp_salary int(10), emp_attendance int(3)) \")\n",
    "cursor.execute(cursor.fetchall())\n"
   ]
  },
  {
   "cell_type": "code",
   "execution_count": 10,
   "metadata": {},
   "outputs": [],
   "source": [
    "import mysql.connector as connection\n",
    "mydb=connection.connect(host=\"localhost\",user=\"root\",passwd=\"11223344\")\n",
    "cursor=mydb.cursor()\n",
    "cursor.execute(\"insert into shudhanshu.ineuron values(101,'shudhanshu kumar','shudhanshu@ineuron.ai',100,30)\")"
   ]
  },
  {
   "cell_type": "code",
   "execution_count": 11,
   "metadata": {},
   "outputs": [],
   "source": [
    "mydb.commit()"
   ]
  },
  {
   "cell_type": "code",
   "execution_count": 12,
   "metadata": {},
   "outputs": [],
   "source": [
    "cursor.execute(\"select * from shudhanshu.ineuron\")"
   ]
  },
  {
   "cell_type": "code",
   "execution_count": null,
   "metadata": {},
   "outputs": [],
   "source": [
    "for i in cursor.fetchall():\n",
    "    print(i)"
   ]
  },
  {
   "cell_type": "code",
   "execution_count": 3,
   "metadata": {},
   "outputs": [
    {
     "name": "stdout",
     "output_type": "stream",
     "text": [
      "[('information_schema',), ('mysql',), ('performance_schema',), ('sakila',), ('shudhanshu',), ('sys',), ('world',)]\n"
     ]
    }
   ],
   "source": [
    "import mysql.connector as connection\n",
    "from sqlalchemy import VARCHAR\n",
    "mydb=connection.connect(host=\"localhost\",user=\"root\",passwd=\"11223344\")\n",
    "# print(mydb)\n",
    "cursor=mydb.cursor()\n",
    "# cursor.execute(\"create database Shudhanshu\")\n",
    "cursor.execute(\"show databases\")\n",
    "print(cursor.fetchall())"
   ]
  }
 ],
 "metadata": {
  "kernelspec": {
   "display_name": "Python 3.9.12 ('Ineuron_Envarment')",
   "language": "python",
   "name": "python3"
  },
  "language_info": {
   "codemirror_mode": {
    "name": "ipython",
    "version": 3
   },
   "file_extension": ".py",
   "mimetype": "text/x-python",
   "name": "python",
   "nbconvert_exporter": "python",
   "pygments_lexer": "ipython3",
   "version": "3.9.12"
  },
  "orig_nbformat": 4,
  "vscode": {
   "interpreter": {
    "hash": "03ee49d135c04881ae1b130394ad4b408a5427589e10da6e6224129121bcb54a"
   }
  }
 },
 "nbformat": 4,
 "nbformat_minor": 2
}
