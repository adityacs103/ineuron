{
 "cells": [
  {
   "cell_type": "code",
   "execution_count": 14,
   "metadata": {},
   "outputs": [
    {
     "name": "stdout",
     "output_type": "stream",
     "text": [
      "Anuj Bhandari\n"
     ]
    }
   ],
   "source": [
    "class person:\n",
    "     def __init__(self,name,surename,emailid,date_of_birth):\n",
    "        self.name=name\n",
    "        self.surename=surename\n",
    "        self.emailid=emailid\n",
    "        self.date_of_birth=date_of_birth\n",
    "\n",
    "anuj_var=person(\"Anuj\",\"Bhandari\",\"anuj@gmail.com\",2000)\n",
    "# print(anuj_var.name) \n",
    "# print(anuj_var.emailid) \n",
    "# print(type(anuj_var)) \n",
    "print(anuj_var.name + \" \"+anuj_var.surename)"
   ]
  },
  {
   "cell_type": "code",
   "execution_count": 9,
   "metadata": {},
   "outputs": [
    {
     "name": "stdout",
     "output_type": "stream",
     "text": [
      "Amit\n"
     ]
    }
   ],
   "source": [
    "class person1:\n",
    "    def __init__(self,name,clas ,roll):\n",
    "        self.name=name\n",
    "        self.clas=clas\n",
    "        self.roll=roll\n",
    "amit=person1(\"Amit\",10,4)\n",
    "print(amit.name)\n",
    "        "
   ]
  },
  {
   "cell_type": "code",
   "execution_count": null,
   "metadata": {},
   "outputs": [],
   "source": [
    "class person:\n",
    "    def __init__(self, name, surename, emailid, date_of_birth):\n",
    "        self.name = name\n",
    "        self.surename = surename\n",
    "        self.emailid = emailid\n",
    "        self.date_of_birth = date_of_birth\n",
    "    def age(self,current_year):\n",
    "        return current_year-self.date_of_birth\n",
    "\n",
    "anuj_var = person(\"Anuj\", \"Bhandari\", \"anuj@gmail.com\", 2000)\n",
    "print(anuj_var.name)\n",
    "print(anuj_var.name + \" \"+anuj_var.surename)\n",
    "print(anuj_var.age(2022))\n",
    "\n"
   ]
  },
  {
   "cell_type": "code",
   "execution_count": 8,
   "metadata": {},
   "outputs": [
    {
     "name": "stdout",
     "output_type": "stream",
     "text": [
      "sudh kumar\n",
      "Hitesh kumar\n",
      "24\n"
     ]
    }
   ],
   "source": [
    "class person:\n",
    "    def age(self,current_age,year_of_birth):\n",
    "        return current_age-year_of_birth\n",
    "    def email_id_input(self,email_id):\n",
    "        print(\"Take a email id forma person and print it\",email_id)\n",
    "    def ask_name(self):\n",
    "        name=input(\"tell me your name\")\n",
    "        return name\n",
    "    def ask_dob(self):\n",
    "        dob= input(\"tell me your name\")\n",
    "        return dob\n",
    "\n",
    "sudh=person()\n",
    "hitesh =person()\n",
    "anuj=person()\n",
    "krish=person()\n",
    "# sudh.email_id_input(\"abc@gmail.com\")\n",
    "sudh.ask_name=\"sudh kumar\"\n",
    "print(sudh.ask_name)\n",
    "# print(sudh.email_id_input)\n",
    "hitesh.ask_name=\"Hitesh kumar\"\n",
    "print(hitesh.ask_name)\n",
    "hitesh.ask_dob=24\n",
    "print(hitesh.ask_dob)\n",
    "\n"
   ]
  },
  {
   "cell_type": "code",
   "execution_count": 13,
   "metadata": {},
   "outputs": [],
   "source": [
    "\n",
    "class Atm:\n",
    "    def __init__(self) :\n",
    "        self.pin=str()\n",
    "        self.balacne=int()\n",
    "        self.menu()\n",
    "\n",
    "    def menu(self):\n",
    "        user_input=input('''\n",
    "        Hello, how would you like to procced?\"\\n\"\n",
    "        1.Enter 1 to creat PIN\"\\n\"\n",
    "        2.Enter 2 to deposite\"\\n\"\n",
    "        3.Enter 3 to withdraw\"\\n\"\n",
    "        4.Enter to check balance\"\\\"\n",
    "        5.Enter 5 to exit\n",
    "        ''')\n",
    "        if user_input=='1':\n",
    "            print(\"Create PIN\")\n",
    "            self.creat_pin()\n",
    "        elif user_input=='2':\n",
    "            print(\"Credit\")\n",
    "            self.deposite()\n",
    "        elif user_input=='3':\n",
    "            print(\"Withdraw\")\n",
    "        elif user_input=='4':\n",
    "            print(\"Check balance\")\n",
    "            self.check_balance()\n",
    "        elif user_input=='5':\n",
    "            pass\n",
    "    def creat_pin(self):\n",
    "        self.pin=input(\"Enter your pin\")\n",
    "        print(\"pin succesfully created\")\n",
    "\n",
    "    def deposite(self):\n",
    "        temp=input(\"Enter your pin\")\n",
    "        if (temp==self.pin):\n",
    "            amount=int(input(\"Enter amount\"))\n",
    "            self.balacne=self.balacne+amount\n",
    "            print(\"Deposite succesfull\")\n",
    "    def withdraw(self):\n",
    "        temp=input(\"Enter your pin\")\n",
    "        if (temp==self.pin):\n",
    "            amount=int(input(\"enter your amount\"))\n",
    "            if amount<=self.balacne:\n",
    "                self.balacne=self.balacne-amount\n",
    "            else:\n",
    "                print(\"insufficient balance\")\n",
    "        else:\n",
    "            print(\"invailed pin\")\n",
    "    def check_balance(self):\n",
    "        temp=input(\"Enter your pin\")\n",
    "        if temp==self.pin:\n",
    "            print(self.balacne)\n",
    "        else:\n",
    "            print(\"invailed pin\")\n",
    "\n",
    "\n",
    "\n",
    "\n",
    "\n",
    "sbi=Atm()\n"
   ]
  },
  {
   "cell_type": "code",
   "execution_count": 4,
   "metadata": {},
   "outputs": [
    {
     "name": "stdout",
     "output_type": "stream",
     "text": [
      "Deposite succesfull\n"
     ]
    }
   ],
   "source": [
    "sbi.deposite()"
   ]
  },
  {
   "cell_type": "code",
   "execution_count": 5,
   "metadata": {},
   "outputs": [
    {
     "name": "stdout",
     "output_type": "stream",
     "text": [
      "1000\n"
     ]
    }
   ],
   "source": [
    "sbi.check_balance()"
   ]
  },
  {
   "cell_type": "code",
   "execution_count": 7,
   "metadata": {},
   "outputs": [],
   "source": [
    "sbi.withdraw()"
   ]
  },
  {
   "cell_type": "code",
   "execution_count": 8,
   "metadata": {},
   "outputs": [
    {
     "name": "stdout",
     "output_type": "stream",
     "text": [
      "500\n"
     ]
    }
   ],
   "source": [
    "sbi.check_balance()"
   ]
  },
  {
   "cell_type": "code",
   "execution_count": 9,
   "metadata": {},
   "outputs": [
    {
     "name": "stdout",
     "output_type": "stream",
     "text": [
      "Create PIN\n",
      "pin succesfully created\n"
     ]
    }
   ],
   "source": [
    "hdfc=Atm()"
   ]
  },
  {
   "cell_type": "code",
   "execution_count": 12,
   "metadata": {},
   "outputs": [
    {
     "name": "stdout",
     "output_type": "stream",
     "text": [
      "invailed pin\n"
     ]
    }
   ],
   "source": [
    "hdfc.check_balance()"
   ]
  },
  {
   "cell_type": "code",
   "execution_count": null,
   "metadata": {},
   "outputs": [],
   "source": []
  },
  {
   "cell_type": "code",
   "execution_count": 6,
   "metadata": {},
   "outputs": [],
   "source": [
    "class Fraction:\n",
    "    def __init__(self,num,den):\n",
    "        self.num=num\n",
    "        self.den=den\n",
    "    def __str__(self):\n",
    "        return \"{}/{}\".format(self.num,self.den)\n",
    "    def __add__(self,other):\n",
    "        temp_num=self.num*other.den+other.num*self.den\n",
    "        temp_den=self.den*other.den\n",
    "        return \"{}/{}\".format(temp_num,temp_den)\n",
    "        \n",
    "\n"
   ]
  },
  {
   "cell_type": "code",
   "execution_count": 7,
   "metadata": {},
   "outputs": [
    {
     "name": "stdout",
     "output_type": "stream",
     "text": [
      "4/5\n"
     ]
    }
   ],
   "source": [
    "x=Fraction(4,5)\n",
    "print(x)"
   ]
  },
  {
   "cell_type": "code",
   "execution_count": 17,
   "metadata": {},
   "outputs": [],
   "source": [
    "from practice import Fraction\n",
    "x=Fraction(3,4)\n",
    "# print(x)\n",
    "# y=Fraction(4,5)\n",
    "# print(y)"
   ]
  },
  {
   "cell_type": "code",
   "execution_count": null,
   "metadata": {},
   "outputs": [],
   "source": [
    "class person:\n",
    "    def age(self, current_age, year_of_birth):\n",
    "        return current_age-year_of_birth\n",
    "\n",
    "    def email_id_input(self, email_id):\n",
    "        print(\"Take a email id forma person and print it\", email_id)\n",
    "\n",
    "    def ask_name(self):\n",
    "        name = input(\"tell me your name\")\n",
    "        return name\n",
    "\n",
    "    def ask_dob(self):\n",
    "        dob = input(\"tell me your name\")\n",
    "        return dob\n",
    "\n",
    "\n",
    "sudh = person()\n",
    "hitesh = person()\n",
    "anuj = person()\n",
    "krish = person()\n",
    "# sudh.email_id_input(\"abc@gmail.com\")\n",
    "sudh.ask_name = \"sudh kumar\"\n",
    "print(sudh.ask_name)\n",
    "# print(sudh.email_id_input)\n",
    "hitesh.ask_name = \"Hitesh kumar\"\n",
    "print(hitesh.ask_name)\n",
    "hitesh.ask_dob = 24\n",
    "print(hitesh.ask_dob)\n"
   ]
  },
  {
   "cell_type": "code",
   "execution_count": 7,
   "metadata": {},
   "outputs": [],
   "source": [
    "import logging\n",
    "logging.basicConfig(filename=\"test6.log\",level=logging.INFO)\n",
    "logging.info(\"This is logging file\")\n",
    "logging.warning(\"This is warning file\")\n",
    "logging.error(\"This is error file\")\n",
    "list2=[2,3,4,1,3,45,5,3,21,2,3,5,5,4,3]\n",
    "for i in list2:\n",
    "    if i>=2:\n",
    "        logging.info(i)\n",
    "logging.shutdown()\n",
    "logging.info(\"Hii this is me\")\n"
   ]
  },
  {
   "cell_type": "code",
   "execution_count": 43,
   "metadata": {},
   "outputs": [],
   "source": [
    "class calc:\n",
    "    \n",
    "    def __init__(self,a,b):\n",
    "        self.a=a\n",
    "        self.b=b\n",
    "        # print(a)\n",
    "        # print(b)\n",
    "        self.add()\n",
    "    def add(a,b):\n",
    "        return a+b"
   ]
  },
  {
   "cell_type": "code",
   "execution_count": 44,
   "metadata": {},
   "outputs": [
    {
     "data": {
      "text/plain": [
       "5"
      ]
     },
     "execution_count": 44,
     "metadata": {},
     "output_type": "execute_result"
    }
   ],
   "source": [
    "calc1 = calc.add(2,3)\n",
    "calc1"
   ]
  },
  {
   "cell_type": "code",
   "execution_count": 52,
   "metadata": {},
   "outputs": [
    {
     "name": "stdout",
     "output_type": "stream",
     "text": [
      "Sudhanshu\n",
      "kumar\n"
     ]
    }
   ],
   "source": [
    "# in python _name means name is protected\n",
    "#           __name means name is private\n",
    "class Person:\n",
    "    def __init__(self,name,surename,yob):\n",
    "        self.__name=name\n",
    "        self.surename=surename\n",
    "        self.yob=yob\n",
    "p1=Person(\"Sudhanshu\",\"kumar\",1990)\n",
    "print(p1._Person__name)\n",
    "print(p1.surename)\n"
   ]
  },
  {
   "cell_type": "code",
   "execution_count": 64,
   "metadata": {},
   "outputs": [
    {
     "name": "stdout",
     "output_type": "stream",
     "text": [
      "Shudh\n",
      "kumar\n",
      "Shudh\n",
      "kumar\n",
      "1990\n"
     ]
    }
   ],
   "source": [
    "class Person1:\n",
    "\n",
    "    # parent class\n",
    "    _name=\"Shudh\"\n",
    "    __surename=\"kumar\"\n",
    "    yob=1990\n",
    "\n",
    "\n",
    "p1=Person1()\n",
    "print(p1._name)\n",
    "print(p1._Person1__surename)\n",
    "\n",
    "class employee(Person1):\n",
    "\n",
    "    # child class\n",
    "    pass\n",
    "\n",
    "\n",
    "e1=employee()\n",
    "print(e1._name)\n",
    "print(e1._Person1__surename)\n",
    "print(e1.yob)"
   ]
  },
  {
   "cell_type": "code",
   "execution_count": 1,
   "metadata": {},
   "outputs": [
    {
     "name": "stdout",
     "output_type": "stream",
     "text": [
      "7\n"
     ]
    }
   ],
   "source": [
    "class calculator:\n",
    "    def add(a,b):\n",
    "        print(a+b)\n",
    "    def sub(a,b):\n",
    "        print(a-b)\n",
    "\n",
    "cal1=calculator\n",
    "cal1.add(3,4)\n",
    "# c1.sub(4,5)"
   ]
  },
  {
   "cell_type": "code",
   "execution_count": 19,
   "metadata": {},
   "outputs": [
    {
     "data": {
      "text/plain": [
       "'Kumar'"
      ]
     },
     "execution_count": 19,
     "metadata": {},
     "output_type": "execute_result"
    }
   ],
   "source": [
    "class person:\n",
    "    _name=\"Shudhanshu\"\n",
    "    __surename=\"Kumar\"\n",
    "    yob=1990\n",
    "\n",
    "class employee(person):\n",
    "    pass"
   ]
  },
  {
   "cell_type": "code",
   "execution_count": 69,
   "metadata": {},
   "outputs": [
    {
     "name": "stdout",
     "output_type": "stream",
     "text": [
      "solid1\n",
      "Milage of car \n"
     ]
    }
   ],
   "source": [
    "import logging\n",
    "logging.basicConfig(filename=\"test6.log\",level=logging.INFO)\n",
    "\n",
    "class Car:\n",
    "    def __init__(self,body,engine,tyre):\n",
    "        self.body=body\n",
    "        self.engine=engine\n",
    "        self.tyre=tyre\n",
    "\n",
    "    def milage(self):\n",
    "        print(\"Milage of car \")\n",
    "\n",
    "\n",
    "class Tata(Car):\n",
    "    pass\n",
    "\n",
    "t1=Tata(\"solid1\",\"B8\",\"CEAT\")\n",
    "print(t1.body)\n",
    "logging.info(t1.engine)\n",
    "t1.milage()\n"
   ]
  },
  {
   "cell_type": "code",
   "execution_count": 13,
   "metadata": {},
   "outputs": [
    {
     "name": "stdout",
     "output_type": "stream",
     "text": [
      "This is icici_bank class\n",
      "Total transaction value\n",
      "This will show you your open status\n",
      "This will show you your deposite ammount\n",
      "This will show you all transaction happened to icici through hdfc\n"
     ]
    }
   ],
   "source": [
    "class Bank:\n",
    "    def transaction(self):\n",
    "        print(\"Total transaction value\")\n",
    "\n",
    "    def account_opening(self):\n",
    "        print(\"This will show you your open status\")\n",
    "\n",
    "    def deposite(self):\n",
    "        print(\"This will show you your deposite ammount\")\n",
    "\n",
    "\n",
    "class HDFC_bank(Bank):\n",
    "    def hdfc_to_icici(self):\n",
    "        print(\"This will show you all transaction happened to icici through hdfc\")\n",
    "\n",
    "\n",
    "class ICICI_bank(HDFC_bank):\n",
    "    def __init__(self):\n",
    "        print(\"This is icici_bank class\")\n",
    "    # pass\n",
    "\n",
    "\n",
    "icici1 = ICICI_bank()\n",
    "icici1.transaction()\n",
    "icici1.account_opening()\n",
    "icici1.deposite()\n",
    "icici1.hdfc_to_icici()\n"
   ]
  },
  {
   "cell_type": "code",
   "execution_count": 2,
   "metadata": {},
   "outputs": [
    {
     "name": "stdout",
     "output_type": "stream",
     "text": [
      "This will show you your open status\n",
      "This will show you all transaction happened to icici through hdfc\n",
      "This will show you your deposite ammount\n",
      "Total transaction value\n",
      "this is test method\n",
      "Account status for iNeuron\n"
     ]
    }
   ],
   "source": [
    "\n",
    "class Bank:\n",
    "    def transaction(self):\n",
    "        print(\"Total transaction value\")\n",
    "\n",
    "    def account_opening(self):\n",
    "        print(\"This will show you your open status\")\n",
    "\n",
    "    def deposite(self):\n",
    "        print(\"This will show you your deposite ammount\")\n",
    "    def test(self):\n",
    "        print(\"this is test method\")\n",
    "\n",
    "\n",
    "class HDFC_bank:\n",
    "    def hdfc_to_icici(self):\n",
    "        print(\"This will show you all transaction happened to icici through hdfc\")\n",
    "    def test(self):\n",
    "        print(\"this is test method\")\n",
    "class ineuron_bank:\n",
    "    def account_icici(self):\n",
    "        print(\"Account status for iNeuron\")\n",
    "\n",
    "\n",
    "class icici(HDFC_bank,Bank,ineuron_bank):\n",
    "    pass\n",
    "\n",
    "i = icici()\n",
    "i.account_opening()\n",
    "i.hdfc_to_icici()\n",
    "i.deposite()\n",
    "i.transaction()\n",
    "i.test()\n",
    "i1=icici()\n",
    "i1.account_icici()\n"
   ]
  },
  {
   "cell_type": "code",
   "execution_count": 8,
   "metadata": {},
   "outputs": [
    {
     "name": "stdout",
     "output_type": "stream",
     "text": [
      "These are the filtered students list:\n"
     ]
    }
   ],
   "source": [
    "class iNeruon:\n",
    "    def student(self):\n",
    "        print(\"The details of all student:\")\n",
    "\n",
    "    def achivers(self):\n",
    "        print(\"The list of all achivers:\")\n",
    "\n",
    "    def hall_of_fam(self):\n",
    "        print(\"This is the list of all hall of fam students\")\n",
    "\n",
    "\n",
    "class iNeuronVision(iNeruon):\n",
    "    def student(self):\n",
    "        print(\"These are the filtered students list:\")\n",
    "\n",
    "\n",
    "iv = iNeuronVision()\n",
    "iv.student()\n"
   ]
  },
  {
   "cell_type": "code",
   "execution_count": 14,
   "metadata": {},
   "outputs": [
    {
     "name": "stdout",
     "output_type": "stream",
     "text": [
      "The class of student Data science\n",
      "Data science\n",
      "apple\n"
     ]
    }
   ],
   "source": [
    "class iNeuron:\n",
    "    __students = \"Data science\"\n",
    "    apple=\"apple\"\n",
    "\n",
    "    def student(self):\n",
    "        print(\"The class of student\", iNeuron.__students)\n",
    "\n",
    "\n",
    "i1 = iNeuron()\n",
    "i1.student()\n",
    "print(i1._iNeuron__students)\n",
    "print(i1.apple)\n"
   ]
  },
  {
   "cell_type": "code",
   "execution_count": 22,
   "metadata": {},
   "outputs": [
    {
     "name": "stdout",
     "output_type": "stream",
     "text": [
      "Apple\n"
     ]
    }
   ],
   "source": [
    "class apple:\n",
    "    def __alp(self):\n",
    "        print(\"Apple\")\n",
    "\n",
    "apple1=apple()\n",
    "apple1._apple__alp()\n"
   ]
  },
  {
   "cell_type": "code",
   "execution_count": null,
   "metadata": {},
   "outputs": [],
   "source": [
    "class iNeuron:\n",
    "    def __init__(self):\n",
    "        self.students=\"Data science\"\n",
    "\n",
    "    def students(self):\n",
    "        print(self.student)\n",
    "\n",
    "i=iNeuron()\n",
    "i.students()"
   ]
  },
  {
   "cell_type": "code",
   "execution_count": 1,
   "metadata": {},
   "outputs": [
    {
     "ename": "AttributeError",
     "evalue": "'ineuron1' object has no attribute '_ineuron1__student1'",
     "output_type": "error",
     "traceback": [
      "\u001b[1;31m---------------------------------------------------------------------------\u001b[0m",
      "\u001b[1;31mAttributeError\u001b[0m                            Traceback (most recent call last)",
      "\u001b[1;32mc:\\Users\\adity\\Desktop\\python\\opps.ipynb Cell 31\u001b[0m in \u001b[0;36m<cell line: 10>\u001b[1;34m()\u001b[0m\n\u001b[0;32m      <a href='vscode-notebook-cell:/c%3A/Users/adity/Desktop/python/opps.ipynb#X42sZmlsZQ%3D%3D?line=7'>8</a>\u001b[0m i3\u001b[39m=\u001b[39mineuron1()\n\u001b[0;32m      <a href='vscode-notebook-cell:/c%3A/Users/adity/Desktop/python/opps.ipynb#X42sZmlsZQ%3D%3D?line=8'>9</a>\u001b[0m \u001b[39m# i3.students()\u001b[39;00m\n\u001b[1;32m---> <a href='vscode-notebook-cell:/c%3A/Users/adity/Desktop/python/opps.ipynb#X42sZmlsZQ%3D%3D?line=9'>10</a>\u001b[0m i3\u001b[39m.\u001b[39;49mstudents()\n",
      "\u001b[1;32mc:\\Users\\adity\\Desktop\\python\\opps.ipynb Cell 31\u001b[0m in \u001b[0;36mineuron1.students\u001b[1;34m(self)\u001b[0m\n\u001b[0;32m      <a href='vscode-notebook-cell:/c%3A/Users/adity/Desktop/python/opps.ipynb#X42sZmlsZQ%3D%3D?line=3'>4</a>\u001b[0m \u001b[39mdef\u001b[39;00m \u001b[39mstudents\u001b[39m(\u001b[39mself\u001b[39m):\n\u001b[1;32m----> <a href='vscode-notebook-cell:/c%3A/Users/adity/Desktop/python/opps.ipynb#X42sZmlsZQ%3D%3D?line=4'>5</a>\u001b[0m     \u001b[39mprint\u001b[39m(\u001b[39mself\u001b[39;49m\u001b[39m.\u001b[39;49m__student1)\n",
      "\u001b[1;31mAttributeError\u001b[0m: 'ineuron1' object has no attribute '_ineuron1__student1'"
     ]
    }
   ],
   "source": [
    "class ineuron1:\n",
    "    def __init__(self):\n",
    "        __student1=\"Data science\"\n",
    "    def students(self):\n",
    "        print(self.__student1)\n",
    "    # def students1(self):\n",
    "    #     print(self.__student1)\n",
    "i3=ineuron1()\n",
    "# i3.students()\n",
    "i3.students()\n",
    "# i3._ineuron1__student1"
   ]
  },
  {
   "cell_type": "code",
   "execution_count": 4,
   "metadata": {},
   "outputs": [
    {
     "name": "stdout",
     "output_type": "stream",
     "text": [
      "Data science\n"
     ]
    }
   ],
   "source": [
    "class ineuron2:\n",
    "    def __init__(self):\n",
    "        self.__student1 = \"Data science\"\n",
    "\n",
    "    def student(self):\n",
    "        print(self.__student1)\n",
    "\n",
    "    def student1(self):\n",
    "        print(self.__student1)\n",
    "\n",
    "\n",
    "    # def students1(self):\n",
    "    #     print(self.__student1)\n",
    "i3 = ineuron2()\n",
    "# i3.students()\n",
    "i3.student1()\n",
    "# i3._ineuron1__student1\n"
   ]
  }
 ],
 "metadata": {
  "kernelspec": {
   "display_name": "Python 3.9.12 ('base')",
   "language": "python",
   "name": "python3"
  },
  "language_info": {
   "codemirror_mode": {
    "name": "ipython",
    "version": 3
   },
   "file_extension": ".py",
   "mimetype": "text/x-python",
   "name": "python",
   "nbconvert_exporter": "python",
   "pygments_lexer": "ipython3",
   "version": "3.9.13"
  },
  "orig_nbformat": 4,
  "vscode": {
   "interpreter": {
    "hash": "8891f3cfb547db503e78f25128202364d60f1c09259e140a1bd236c27b0b7a43"
   }
  }
 },
 "nbformat": 4,
 "nbformat_minor": 2
}
